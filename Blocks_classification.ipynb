{
  "nbformat": 4,
  "nbformat_minor": 0,
  "metadata": {
    "colab": {
      "name": "Blocks_classification.ipynb",
      "provenance": [],
      "collapsed_sections": []
    },
    "kernelspec": {
      "name": "python3",
      "display_name": "Python 3"
    }
  },
  "cells": [
    {
      "cell_type": "markdown",
      "metadata": {
        "id": "kTokdM32o2qL"
      },
      "source": [
        "# **Blocks classification**\r\n",
        "\r\n",
        "### **Dataset**\r\n",
        "https://archive.ics.uci.edu/ml/datasets/Page+Blocks+Classification\r\n",
        "\r\n",
        "The problem consists of classifying all the blocks of the page layout of a document that has been detected by a segmentation process. This is an essential step in document analysis in order to separate text from graphic areas. Indeed, the five classes are: text (1), horizontal line (2), picture (3), vertical line (4) and graphic (5).\r\n",
        "\r\n",
        "### **Source**\r\n",
        "\r\n",
        "> Original Owner\r\n",
        "\r\n",
        "Donato Malerba\r\n",
        "Dipartimento di Informatica\r\n",
        "University of Bari\r\n",
        "via Orabona 4\r\n",
        "70126 Bari - Italy\r\n",
        "phone: +39 - 80 - 5443269\r\n",
        "fax: +39 - 80 - 5443196\r\n",
        "malerbad '@' vm.csata.it\r\n",
        "\r\n",
        "> Donor\r\n",
        "\r\n",
        "Donato Malerba\r\n",
        "\r\n",
        "### **Data Set Information**\r\n",
        "\r\n",
        "The 5473 examples comes from 54 distinct documents. Each observation concerns one block. All attributes are numeric. Data are in a format readable by C4.5.\r\n",
        "Missing Attribute Values:  No missing value.\r\n",
        "\r\n",
        "### **Attribute Information**\r\n",
        "\r\n",
        "height: integer. | Height of the block;\r\n",
        "\r\n",
        "lenght: integer. | Length of the block;\r\n",
        "\r\n",
        "area: integer. | Area of the block (height * lenght);\r\n",
        "\r\n",
        "eccen: continuous. | Eccentricity of the block (lenght / height);\r\n",
        "\r\n",
        "p_black: continuous. | Percentage of black pixels within the block (blackpix / area);\r\n",
        "\r\n",
        "p_and: continuous. | Percentage of black pixels after the application of the Run Length Smoothing Algorithm (RLSA) (blackand / area);\r\n",
        "\r\n",
        "mean_tr: continuous. | Mean number of white-black transitions (blackpix / wb_trans);\r\n",
        "\r\n",
        "blackpix: integer. | Total number of black pixels in the original bitmap of the block;\r\n",
        "\r\n",
        "blackand: integer. | Total number of black pixels in the bitmap of the block after the RLSA;\r\n",
        "\r\n",
        "wb_trans: integer. | Number of white-black transitions in the original bitmap of the block;\r\n",
        "\r\n",
        "prediction: integer. | Block classes : text (1), horizontal line (2), picture (3), vertical line (4) and graphic (5).\r\n",
        "\r\n",
        "\r\n"
      ]
    },
    {
      "cell_type": "markdown",
      "metadata": {
        "id": "EvCozqoNzgva"
      },
      "source": [
        "## **Libraries import**"
      ]
    },
    {
      "cell_type": "code",
      "metadata": {
        "id": "0OK_htpSL7CH"
      },
      "source": [
        "# Data visualizayion use\r\n",
        "import pandas as pd\r\n",
        "import seaborn as sns\r\n",
        "import matplotlib.pyplot as plt\r\n",
        "\r\n",
        "# ML use\r\n",
        "# Any results you write to the current directory are saved as output.\r\n",
        "import numpy as np\r\n",
        "import os\r\n",
        "from sklearn.preprocessing import StandardScaler\r\n",
        "from sklearn.model_selection import train_test_split\r\n",
        "from sklearn import metrics\r\n",
        "from sklearn.metrics import f1_score, roc_auc_score\r\n",
        "from sklearn.linear_model import LogisticRegression\r\n",
        "from sklearn.ensemble import RandomForestClassifier\r\n",
        "from sklearn.model_selection import GridSearchCV\r\n",
        "from sklearn.neural_network import MLPClassifier\r\n",
        "from imblearn.pipeline import make_pipeline as make_pipeline_imb\r\n",
        "from imblearn.over_sampling import SMOTE\r\n",
        "from imblearn.metrics import classification_report_imbalanced\r\n",
        "import xgboost as xgb\r\n",
        "from xgboost import XGBClassifier\r\n",
        "from collections import Counter\r\n",
        "import time\r\n",
        "from sklearn import metrics\r\n",
        "from sklearn.model_selection import KFold"
      ],
      "execution_count": 23,
      "outputs": []
    },
    {
      "cell_type": "markdown",
      "metadata": {
        "id": "vWZXfewbzqBy"
      },
      "source": [
        "## **Dataset read**"
      ]
    },
    {
      "cell_type": "code",
      "metadata": {
        "id": "2po_h9UNpBj_",
        "colab": {
          "base_uri": "https://localhost:8080/",
          "height": 402
        },
        "outputId": "852458df-44eb-49ef-a794-dbdb7618fdc2"
      },
      "source": [
        "# Reading the csv document. Previously added attribute names for each column. \r\n",
        "data = pd.read_csv(\"page-blocks.csv\",sep=\";\")\r\n",
        "data"
      ],
      "execution_count": 24,
      "outputs": [
        {
          "output_type": "execute_result",
          "data": {
            "text/html": [
              "<div>\n",
              "<style scoped>\n",
              "    .dataframe tbody tr th:only-of-type {\n",
              "        vertical-align: middle;\n",
              "    }\n",
              "\n",
              "    .dataframe tbody tr th {\n",
              "        vertical-align: top;\n",
              "    }\n",
              "\n",
              "    .dataframe thead th {\n",
              "        text-align: right;\n",
              "    }\n",
              "</style>\n",
              "<table border=\"1\" class=\"dataframe\">\n",
              "  <thead>\n",
              "    <tr style=\"text-align: right;\">\n",
              "      <th></th>\n",
              "      <th>height</th>\n",
              "      <th>length</th>\n",
              "      <th>area</th>\n",
              "      <th>eccen</th>\n",
              "      <th>p_black</th>\n",
              "      <th>p_and</th>\n",
              "      <th>mean_tr</th>\n",
              "      <th>blackpix</th>\n",
              "      <th>blackand</th>\n",
              "      <th>wb_trans</th>\n",
              "      <th>prediction</th>\n",
              "    </tr>\n",
              "  </thead>\n",
              "  <tbody>\n",
              "    <tr>\n",
              "      <th>0</th>\n",
              "      <td>5</td>\n",
              "      <td>7</td>\n",
              "      <td>35</td>\n",
              "      <td>1.400</td>\n",
              "      <td>0.400</td>\n",
              "      <td>0.657</td>\n",
              "      <td>2.33</td>\n",
              "      <td>14</td>\n",
              "      <td>23</td>\n",
              "      <td>6</td>\n",
              "      <td>1</td>\n",
              "    </tr>\n",
              "    <tr>\n",
              "      <th>1</th>\n",
              "      <td>6</td>\n",
              "      <td>7</td>\n",
              "      <td>42</td>\n",
              "      <td>1.167</td>\n",
              "      <td>0.429</td>\n",
              "      <td>0.881</td>\n",
              "      <td>3.60</td>\n",
              "      <td>18</td>\n",
              "      <td>37</td>\n",
              "      <td>5</td>\n",
              "      <td>1</td>\n",
              "    </tr>\n",
              "    <tr>\n",
              "      <th>2</th>\n",
              "      <td>6</td>\n",
              "      <td>18</td>\n",
              "      <td>108</td>\n",
              "      <td>3.000</td>\n",
              "      <td>0.287</td>\n",
              "      <td>0.741</td>\n",
              "      <td>4.43</td>\n",
              "      <td>31</td>\n",
              "      <td>80</td>\n",
              "      <td>7</td>\n",
              "      <td>1</td>\n",
              "    </tr>\n",
              "    <tr>\n",
              "      <th>3</th>\n",
              "      <td>5</td>\n",
              "      <td>7</td>\n",
              "      <td>35</td>\n",
              "      <td>1.400</td>\n",
              "      <td>0.371</td>\n",
              "      <td>0.743</td>\n",
              "      <td>4.33</td>\n",
              "      <td>13</td>\n",
              "      <td>26</td>\n",
              "      <td>3</td>\n",
              "      <td>1</td>\n",
              "    </tr>\n",
              "    <tr>\n",
              "      <th>4</th>\n",
              "      <td>6</td>\n",
              "      <td>3</td>\n",
              "      <td>18</td>\n",
              "      <td>0.500</td>\n",
              "      <td>0.500</td>\n",
              "      <td>0.944</td>\n",
              "      <td>2.25</td>\n",
              "      <td>9</td>\n",
              "      <td>17</td>\n",
              "      <td>4</td>\n",
              "      <td>1</td>\n",
              "    </tr>\n",
              "    <tr>\n",
              "      <th>...</th>\n",
              "      <td>...</td>\n",
              "      <td>...</td>\n",
              "      <td>...</td>\n",
              "      <td>...</td>\n",
              "      <td>...</td>\n",
              "      <td>...</td>\n",
              "      <td>...</td>\n",
              "      <td>...</td>\n",
              "      <td>...</td>\n",
              "      <td>...</td>\n",
              "      <td>...</td>\n",
              "    </tr>\n",
              "    <tr>\n",
              "      <th>5468</th>\n",
              "      <td>4</td>\n",
              "      <td>524</td>\n",
              "      <td>2096</td>\n",
              "      <td>131.000</td>\n",
              "      <td>0.542</td>\n",
              "      <td>0.603</td>\n",
              "      <td>40.57</td>\n",
              "      <td>1136</td>\n",
              "      <td>1264</td>\n",
              "      <td>28</td>\n",
              "      <td>2</td>\n",
              "    </tr>\n",
              "    <tr>\n",
              "      <th>5469</th>\n",
              "      <td>7</td>\n",
              "      <td>4</td>\n",
              "      <td>28</td>\n",
              "      <td>0.571</td>\n",
              "      <td>0.714</td>\n",
              "      <td>0.929</td>\n",
              "      <td>10.00</td>\n",
              "      <td>20</td>\n",
              "      <td>26</td>\n",
              "      <td>2</td>\n",
              "      <td>1</td>\n",
              "    </tr>\n",
              "    <tr>\n",
              "      <th>5470</th>\n",
              "      <td>6</td>\n",
              "      <td>95</td>\n",
              "      <td>570</td>\n",
              "      <td>15.833</td>\n",
              "      <td>0.300</td>\n",
              "      <td>0.911</td>\n",
              "      <td>1.64</td>\n",
              "      <td>171</td>\n",
              "      <td>519</td>\n",
              "      <td>104</td>\n",
              "      <td>1</td>\n",
              "    </tr>\n",
              "    <tr>\n",
              "      <th>5471</th>\n",
              "      <td>7</td>\n",
              "      <td>41</td>\n",
              "      <td>287</td>\n",
              "      <td>5.857</td>\n",
              "      <td>0.213</td>\n",
              "      <td>0.801</td>\n",
              "      <td>1.36</td>\n",
              "      <td>61</td>\n",
              "      <td>230</td>\n",
              "      <td>45</td>\n",
              "      <td>1</td>\n",
              "    </tr>\n",
              "    <tr>\n",
              "      <th>5472</th>\n",
              "      <td>8</td>\n",
              "      <td>1</td>\n",
              "      <td>8</td>\n",
              "      <td>0.125</td>\n",
              "      <td>1.000</td>\n",
              "      <td>1.000</td>\n",
              "      <td>8.00</td>\n",
              "      <td>8</td>\n",
              "      <td>8</td>\n",
              "      <td>1</td>\n",
              "      <td>4</td>\n",
              "    </tr>\n",
              "  </tbody>\n",
              "</table>\n",
              "<p>5473 rows × 11 columns</p>\n",
              "</div>"
            ],
            "text/plain": [
              "      height  length  area    eccen  ...  blackpix  blackand  wb_trans  prediction\n",
              "0          5       7    35    1.400  ...        14        23         6           1\n",
              "1          6       7    42    1.167  ...        18        37         5           1\n",
              "2          6      18   108    3.000  ...        31        80         7           1\n",
              "3          5       7    35    1.400  ...        13        26         3           1\n",
              "4          6       3    18    0.500  ...         9        17         4           1\n",
              "...      ...     ...   ...      ...  ...       ...       ...       ...         ...\n",
              "5468       4     524  2096  131.000  ...      1136      1264        28           2\n",
              "5469       7       4    28    0.571  ...        20        26         2           1\n",
              "5470       6      95   570   15.833  ...       171       519       104           1\n",
              "5471       7      41   287    5.857  ...        61       230        45           1\n",
              "5472       8       1     8    0.125  ...         8         8         1           4\n",
              "\n",
              "[5473 rows x 11 columns]"
            ]
          },
          "metadata": {
            "tags": []
          },
          "execution_count": 24
        }
      ]
    },
    {
      "cell_type": "markdown",
      "metadata": {
        "id": "TISmBAAm5ZhJ"
      },
      "source": [
        "# **Dataset checks**"
      ]
    },
    {
      "cell_type": "code",
      "metadata": {
        "colab": {
          "base_uri": "https://localhost:8080/"
        },
        "id": "MRygJclc3dMt",
        "outputId": "387b8d00-774a-43d7-a20e-603c3c5686c6"
      },
      "source": [
        "# Checking the number of values \r\n",
        "data.count()"
      ],
      "execution_count": 25,
      "outputs": [
        {
          "output_type": "execute_result",
          "data": {
            "text/plain": [
              "height        5473\n",
              "length        5473\n",
              "area          5473\n",
              "eccen         5473\n",
              "p_black       5473\n",
              "p_and         5473\n",
              "mean_tr       5473\n",
              "blackpix      5473\n",
              "blackand      5473\n",
              "wb_trans      5473\n",
              "prediction    5473\n",
              "dtype: int64"
            ]
          },
          "metadata": {
            "tags": []
          },
          "execution_count": 25
        }
      ]
    },
    {
      "cell_type": "code",
      "metadata": {
        "colab": {
          "base_uri": "https://localhost:8080/"
        },
        "id": "pnOZhDYL54ia",
        "outputId": "5cb22c56-ae6f-4f7f-a538-8e923c2b8111"
      },
      "source": [
        "# Checking line and columns\r\n",
        "nb_lignes, nb_col = data.shape\r\n",
        "print(nb_lignes)\r\n",
        "print(nb_col)"
      ],
      "execution_count": 26,
      "outputs": [
        {
          "output_type": "stream",
          "text": [
            "5473\n",
            "11\n"
          ],
          "name": "stdout"
        }
      ]
    },
    {
      "cell_type": "code",
      "metadata": {
        "colab": {
          "base_uri": "https://localhost:8080/"
        },
        "id": "-GE_xKf169zx",
        "outputId": "afa42d36-7b0b-447a-c50b-1993a14b1805"
      },
      "source": [
        "# Checking the name of the columns added before reading the csv\r\n",
        "data.columns"
      ],
      "execution_count": 27,
      "outputs": [
        {
          "output_type": "execute_result",
          "data": {
            "text/plain": [
              "Index(['height', 'length', 'area', 'eccen', 'p_black', 'p_and', 'mean_tr',\n",
              "       'blackpix', 'blackand', 'wb_trans', 'prediction'],\n",
              "      dtype='object')"
            ]
          },
          "metadata": {
            "tags": []
          },
          "execution_count": 27
        }
      ]
    },
    {
      "cell_type": "code",
      "metadata": {
        "colab": {
          "base_uri": "https://localhost:8080/"
        },
        "id": "6li-e7ZC4naF",
        "outputId": "75922d07-1895-4662-c929-4b887798b841"
      },
      "source": [
        "# Checking the column type\r\n",
        "data.dtypes"
      ],
      "execution_count": 28,
      "outputs": [
        {
          "output_type": "execute_result",
          "data": {
            "text/plain": [
              "height          int64\n",
              "length          int64\n",
              "area            int64\n",
              "eccen         float64\n",
              "p_black       float64\n",
              "p_and         float64\n",
              "mean_tr       float64\n",
              "blackpix        int64\n",
              "blackand        int64\n",
              "wb_trans        int64\n",
              "prediction      int64\n",
              "dtype: object"
            ]
          },
          "metadata": {
            "tags": []
          },
          "execution_count": 28
        }
      ]
    },
    {
      "cell_type": "code",
      "metadata": {
        "colab": {
          "base_uri": "https://localhost:8080/"
        },
        "id": "G1wjyXyV7g16",
        "outputId": "cdd0e454-2819-4d43-e7f9-df7c4e30015d"
      },
      "source": [
        "# \"No missing values\" said in the dataset description, let's check it\r\n",
        "data.isnull().sum()"
      ],
      "execution_count": 29,
      "outputs": [
        {
          "output_type": "execute_result",
          "data": {
            "text/plain": [
              "height        0\n",
              "length        0\n",
              "area          0\n",
              "eccen         0\n",
              "p_black       0\n",
              "p_and         0\n",
              "mean_tr       0\n",
              "blackpix      0\n",
              "blackand      0\n",
              "wb_trans      0\n",
              "prediction    0\n",
              "dtype: int64"
            ]
          },
          "metadata": {
            "tags": []
          },
          "execution_count": 29
        }
      ]
    },
    {
      "cell_type": "code",
      "metadata": {
        "colab": {
          "base_uri": "https://localhost:8080/"
        },
        "id": "91VmeuAq7h8L",
        "outputId": "b8e54237-8e70-437a-fd61-41563969e21e"
      },
      "source": [
        "data.isna().sum()"
      ],
      "execution_count": 30,
      "outputs": [
        {
          "output_type": "execute_result",
          "data": {
            "text/plain": [
              "height        0\n",
              "length        0\n",
              "area          0\n",
              "eccen         0\n",
              "p_black       0\n",
              "p_and         0\n",
              "mean_tr       0\n",
              "blackpix      0\n",
              "blackand      0\n",
              "wb_trans      0\n",
              "prediction    0\n",
              "dtype: int64"
            ]
          },
          "metadata": {
            "tags": []
          },
          "execution_count": 30
        }
      ]
    },
    {
      "cell_type": "code",
      "metadata": {
        "colab": {
          "base_uri": "https://localhost:8080/",
          "height": 284
        },
        "id": "vC-b5ace6wNZ",
        "outputId": "9e80d3b0-a892-4df2-d6b2-a95c81548402"
      },
      "source": [
        "# Finally, let's describe the dataset \r\n",
        "data.describe()"
      ],
      "execution_count": 31,
      "outputs": [
        {
          "output_type": "execute_result",
          "data": {
            "text/html": [
              "<div>\n",
              "<style scoped>\n",
              "    .dataframe tbody tr th:only-of-type {\n",
              "        vertical-align: middle;\n",
              "    }\n",
              "\n",
              "    .dataframe tbody tr th {\n",
              "        vertical-align: top;\n",
              "    }\n",
              "\n",
              "    .dataframe thead th {\n",
              "        text-align: right;\n",
              "    }\n",
              "</style>\n",
              "<table border=\"1\" class=\"dataframe\">\n",
              "  <thead>\n",
              "    <tr style=\"text-align: right;\">\n",
              "      <th></th>\n",
              "      <th>height</th>\n",
              "      <th>length</th>\n",
              "      <th>area</th>\n",
              "      <th>eccen</th>\n",
              "      <th>p_black</th>\n",
              "      <th>p_and</th>\n",
              "      <th>mean_tr</th>\n",
              "      <th>blackpix</th>\n",
              "      <th>blackand</th>\n",
              "      <th>wb_trans</th>\n",
              "      <th>prediction</th>\n",
              "    </tr>\n",
              "  </thead>\n",
              "  <tbody>\n",
              "    <tr>\n",
              "      <th>count</th>\n",
              "      <td>5473.000000</td>\n",
              "      <td>5473.000000</td>\n",
              "      <td>5473.000000</td>\n",
              "      <td>5473.000000</td>\n",
              "      <td>5473.000000</td>\n",
              "      <td>5473.000000</td>\n",
              "      <td>5473.000000</td>\n",
              "      <td>5473.000000</td>\n",
              "      <td>5473.000000</td>\n",
              "      <td>5473.000000</td>\n",
              "      <td>5473.000000</td>\n",
              "    </tr>\n",
              "    <tr>\n",
              "      <th>mean</th>\n",
              "      <td>10.473232</td>\n",
              "      <td>89.568244</td>\n",
              "      <td>1198.405628</td>\n",
              "      <td>13.753977</td>\n",
              "      <td>0.368642</td>\n",
              "      <td>0.785053</td>\n",
              "      <td>6.219278</td>\n",
              "      <td>365.930751</td>\n",
              "      <td>741.108167</td>\n",
              "      <td>106.662891</td>\n",
              "      <td>1.202631</td>\n",
              "    </tr>\n",
              "    <tr>\n",
              "      <th>std</th>\n",
              "      <td>18.960564</td>\n",
              "      <td>114.721758</td>\n",
              "      <td>4849.376950</td>\n",
              "      <td>30.703737</td>\n",
              "      <td>0.177757</td>\n",
              "      <td>0.170661</td>\n",
              "      <td>69.079021</td>\n",
              "      <td>1270.333082</td>\n",
              "      <td>1881.504302</td>\n",
              "      <td>167.308362</td>\n",
              "      <td>0.721470</td>\n",
              "    </tr>\n",
              "    <tr>\n",
              "      <th>min</th>\n",
              "      <td>1.000000</td>\n",
              "      <td>1.000000</td>\n",
              "      <td>7.000000</td>\n",
              "      <td>0.007000</td>\n",
              "      <td>0.052000</td>\n",
              "      <td>0.062000</td>\n",
              "      <td>1.000000</td>\n",
              "      <td>7.000000</td>\n",
              "      <td>7.000000</td>\n",
              "      <td>1.000000</td>\n",
              "      <td>1.000000</td>\n",
              "    </tr>\n",
              "    <tr>\n",
              "      <th>25%</th>\n",
              "      <td>7.000000</td>\n",
              "      <td>17.000000</td>\n",
              "      <td>114.000000</td>\n",
              "      <td>2.143000</td>\n",
              "      <td>0.261000</td>\n",
              "      <td>0.679000</td>\n",
              "      <td>1.610000</td>\n",
              "      <td>42.000000</td>\n",
              "      <td>95.000000</td>\n",
              "      <td>17.000000</td>\n",
              "      <td>1.000000</td>\n",
              "    </tr>\n",
              "    <tr>\n",
              "      <th>50%</th>\n",
              "      <td>8.000000</td>\n",
              "      <td>41.000000</td>\n",
              "      <td>322.000000</td>\n",
              "      <td>5.167000</td>\n",
              "      <td>0.337000</td>\n",
              "      <td>0.803000</td>\n",
              "      <td>2.070000</td>\n",
              "      <td>108.000000</td>\n",
              "      <td>250.000000</td>\n",
              "      <td>49.000000</td>\n",
              "      <td>1.000000</td>\n",
              "    </tr>\n",
              "    <tr>\n",
              "      <th>75%</th>\n",
              "      <td>10.000000</td>\n",
              "      <td>107.000000</td>\n",
              "      <td>980.000000</td>\n",
              "      <td>13.625000</td>\n",
              "      <td>0.426000</td>\n",
              "      <td>0.927000</td>\n",
              "      <td>3.000000</td>\n",
              "      <td>284.000000</td>\n",
              "      <td>718.000000</td>\n",
              "      <td>126.000000</td>\n",
              "      <td>1.000000</td>\n",
              "    </tr>\n",
              "    <tr>\n",
              "      <th>max</th>\n",
              "      <td>804.000000</td>\n",
              "      <td>553.000000</td>\n",
              "      <td>143993.000000</td>\n",
              "      <td>537.000000</td>\n",
              "      <td>1.000000</td>\n",
              "      <td>1.000000</td>\n",
              "      <td>4955.000000</td>\n",
              "      <td>33017.000000</td>\n",
              "      <td>46133.000000</td>\n",
              "      <td>3212.000000</td>\n",
              "      <td>5.000000</td>\n",
              "    </tr>\n",
              "  </tbody>\n",
              "</table>\n",
              "</div>"
            ],
            "text/plain": [
              "            height       length  ...     wb_trans   prediction\n",
              "count  5473.000000  5473.000000  ...  5473.000000  5473.000000\n",
              "mean     10.473232    89.568244  ...   106.662891     1.202631\n",
              "std      18.960564   114.721758  ...   167.308362     0.721470\n",
              "min       1.000000     1.000000  ...     1.000000     1.000000\n",
              "25%       7.000000    17.000000  ...    17.000000     1.000000\n",
              "50%       8.000000    41.000000  ...    49.000000     1.000000\n",
              "75%      10.000000   107.000000  ...   126.000000     1.000000\n",
              "max     804.000000   553.000000  ...  3212.000000     5.000000\n",
              "\n",
              "[8 rows x 11 columns]"
            ]
          },
          "metadata": {
            "tags": []
          },
          "execution_count": 31
        }
      ]
    },
    {
      "cell_type": "code",
      "metadata": {
        "colab": {
          "base_uri": "https://localhost:8080/",
          "height": 343
        },
        "id": "Rbo1tozc4-pJ",
        "outputId": "26e9bc43-b891-4664-f010-fa55c73f6131"
      },
      "source": [
        "columns = ('text', 'horizontal line', 'picture', 'vertical line', 'graphic')\r\n",
        "data.prediction.replace((1, 2, 3, 4, 5), columns, inplace=True)\r\n",
        "data.sample(10)"
      ],
      "execution_count": 33,
      "outputs": [
        {
          "output_type": "execute_result",
          "data": {
            "text/html": [
              "<div>\n",
              "<style scoped>\n",
              "    .dataframe tbody tr th:only-of-type {\n",
              "        vertical-align: middle;\n",
              "    }\n",
              "\n",
              "    .dataframe tbody tr th {\n",
              "        vertical-align: top;\n",
              "    }\n",
              "\n",
              "    .dataframe thead th {\n",
              "        text-align: right;\n",
              "    }\n",
              "</style>\n",
              "<table border=\"1\" class=\"dataframe\">\n",
              "  <thead>\n",
              "    <tr style=\"text-align: right;\">\n",
              "      <th></th>\n",
              "      <th>height</th>\n",
              "      <th>length</th>\n",
              "      <th>area</th>\n",
              "      <th>eccen</th>\n",
              "      <th>p_black</th>\n",
              "      <th>p_and</th>\n",
              "      <th>mean_tr</th>\n",
              "      <th>blackpix</th>\n",
              "      <th>blackand</th>\n",
              "      <th>wb_trans</th>\n",
              "      <th>prediction</th>\n",
              "    </tr>\n",
              "  </thead>\n",
              "  <tbody>\n",
              "    <tr>\n",
              "      <th>4289</th>\n",
              "      <td>23</td>\n",
              "      <td>124</td>\n",
              "      <td>2852</td>\n",
              "      <td>5.391</td>\n",
              "      <td>0.941</td>\n",
              "      <td>1.000</td>\n",
              "      <td>17.21</td>\n",
              "      <td>2684</td>\n",
              "      <td>2852</td>\n",
              "      <td>156</td>\n",
              "      <td>text</td>\n",
              "    </tr>\n",
              "    <tr>\n",
              "      <th>494</th>\n",
              "      <td>10</td>\n",
              "      <td>38</td>\n",
              "      <td>380</td>\n",
              "      <td>3.800</td>\n",
              "      <td>0.432</td>\n",
              "      <td>0.939</td>\n",
              "      <td>2.78</td>\n",
              "      <td>164</td>\n",
              "      <td>357</td>\n",
              "      <td>59</td>\n",
              "      <td>text</td>\n",
              "    </tr>\n",
              "    <tr>\n",
              "      <th>1703</th>\n",
              "      <td>7</td>\n",
              "      <td>11</td>\n",
              "      <td>77</td>\n",
              "      <td>1.571</td>\n",
              "      <td>0.351</td>\n",
              "      <td>0.922</td>\n",
              "      <td>1.59</td>\n",
              "      <td>27</td>\n",
              "      <td>71</td>\n",
              "      <td>17</td>\n",
              "      <td>text</td>\n",
              "    </tr>\n",
              "    <tr>\n",
              "      <th>372</th>\n",
              "      <td>10</td>\n",
              "      <td>80</td>\n",
              "      <td>800</td>\n",
              "      <td>8.000</td>\n",
              "      <td>0.314</td>\n",
              "      <td>0.799</td>\n",
              "      <td>2.06</td>\n",
              "      <td>251</td>\n",
              "      <td>639</td>\n",
              "      <td>122</td>\n",
              "      <td>text</td>\n",
              "    </tr>\n",
              "    <tr>\n",
              "      <th>634</th>\n",
              "      <td>8</td>\n",
              "      <td>71</td>\n",
              "      <td>568</td>\n",
              "      <td>8.875</td>\n",
              "      <td>0.329</td>\n",
              "      <td>0.776</td>\n",
              "      <td>1.83</td>\n",
              "      <td>187</td>\n",
              "      <td>441</td>\n",
              "      <td>102</td>\n",
              "      <td>text</td>\n",
              "    </tr>\n",
              "    <tr>\n",
              "      <th>1498</th>\n",
              "      <td>804</td>\n",
              "      <td>11</td>\n",
              "      <td>8844</td>\n",
              "      <td>0.014</td>\n",
              "      <td>0.191</td>\n",
              "      <td>0.233</td>\n",
              "      <td>15.64</td>\n",
              "      <td>1689</td>\n",
              "      <td>2058</td>\n",
              "      <td>108</td>\n",
              "      <td>vertical line</td>\n",
              "    </tr>\n",
              "    <tr>\n",
              "      <th>1685</th>\n",
              "      <td>5</td>\n",
              "      <td>14</td>\n",
              "      <td>70</td>\n",
              "      <td>2.800</td>\n",
              "      <td>0.414</td>\n",
              "      <td>0.943</td>\n",
              "      <td>1.38</td>\n",
              "      <td>29</td>\n",
              "      <td>66</td>\n",
              "      <td>21</td>\n",
              "      <td>text</td>\n",
              "    </tr>\n",
              "    <tr>\n",
              "      <th>3489</th>\n",
              "      <td>7</td>\n",
              "      <td>12</td>\n",
              "      <td>84</td>\n",
              "      <td>1.714</td>\n",
              "      <td>0.226</td>\n",
              "      <td>0.786</td>\n",
              "      <td>1.90</td>\n",
              "      <td>19</td>\n",
              "      <td>66</td>\n",
              "      <td>10</td>\n",
              "      <td>text</td>\n",
              "    </tr>\n",
              "    <tr>\n",
              "      <th>5284</th>\n",
              "      <td>8</td>\n",
              "      <td>302</td>\n",
              "      <td>2416</td>\n",
              "      <td>37.750</td>\n",
              "      <td>0.211</td>\n",
              "      <td>0.730</td>\n",
              "      <td>1.43</td>\n",
              "      <td>510</td>\n",
              "      <td>1763</td>\n",
              "      <td>356</td>\n",
              "      <td>text</td>\n",
              "    </tr>\n",
              "    <tr>\n",
              "      <th>4419</th>\n",
              "      <td>25</td>\n",
              "      <td>169</td>\n",
              "      <td>4225</td>\n",
              "      <td>6.760</td>\n",
              "      <td>0.218</td>\n",
              "      <td>0.971</td>\n",
              "      <td>1.58</td>\n",
              "      <td>923</td>\n",
              "      <td>4101</td>\n",
              "      <td>586</td>\n",
              "      <td>text</td>\n",
              "    </tr>\n",
              "  </tbody>\n",
              "</table>\n",
              "</div>"
            ],
            "text/plain": [
              "      height  length  area   eccen  ...  blackpix  blackand  wb_trans     prediction\n",
              "4289      23     124  2852   5.391  ...      2684      2852       156           text\n",
              "494       10      38   380   3.800  ...       164       357        59           text\n",
              "1703       7      11    77   1.571  ...        27        71        17           text\n",
              "372       10      80   800   8.000  ...       251       639       122           text\n",
              "634        8      71   568   8.875  ...       187       441       102           text\n",
              "1498     804      11  8844   0.014  ...      1689      2058       108  vertical line\n",
              "1685       5      14    70   2.800  ...        29        66        21           text\n",
              "3489       7      12    84   1.714  ...        19        66        10           text\n",
              "5284       8     302  2416  37.750  ...       510      1763       356           text\n",
              "4419      25     169  4225   6.760  ...       923      4101       586           text\n",
              "\n",
              "[10 rows x 11 columns]"
            ]
          },
          "metadata": {
            "tags": []
          },
          "execution_count": 33
        }
      ]
    },
    {
      "cell_type": "markdown",
      "metadata": {
        "id": "-UVQTXat8u34"
      },
      "source": [
        "## **Data visualization**"
      ]
    },
    {
      "cell_type": "markdown",
      "metadata": {
        "id": "YEVhPHbJT-YI"
      },
      "source": [
        "### Distribution of each predicted class"
      ]
    },
    {
      "cell_type": "code",
      "metadata": {
        "colab": {
          "base_uri": "https://localhost:8080/"
        },
        "id": "flZUVY078Et7",
        "outputId": "74af786e-3a9e-4bc6-cb92-ea036667eafa"
      },
      "source": [
        "data.prediction.value_counts()"
      ],
      "execution_count": 34,
      "outputs": [
        {
          "output_type": "execute_result",
          "data": {
            "text/plain": [
              "text               4913\n",
              "horizontal line     329\n",
              "graphic             115\n",
              "vertical line        88\n",
              "picture              28\n",
              "Name: prediction, dtype: int64"
            ]
          },
          "metadata": {
            "tags": []
          },
          "execution_count": 34
        }
      ]
    },
    {
      "cell_type": "code",
      "metadata": {
        "colab": {
          "base_uri": "https://localhost:8080/",
          "height": 624
        },
        "id": "oqmZei2w8l5p",
        "outputId": "64b55bae-bbbc-46b4-b540-95f5fd2449ad"
      },
      "source": [
        "data.prediction.value_counts().plot.barh(title=\"Number of blocks represented by each class\", figsize=(15,10))"
      ],
      "execution_count": 35,
      "outputs": [
        {
          "output_type": "execute_result",
          "data": {
            "text/plain": [
              "<matplotlib.axes._subplots.AxesSubplot at 0x7fe645ac7fd0>"
            ]
          },
          "metadata": {
            "tags": []
          },
          "execution_count": 35
        },
        {
          "output_type": "display_data",
          "data": {
            "image/png": "[encoded data removed]",
            "text/plain": [
              "<Figure size 1080x720 with 1 Axes>"
            ]
          },
          "metadata": {
            "tags": [],
            "needs_background": "light"
          }
        }
      ]
    },
    {
      "cell_type": "code",
      "metadata": {
        "colab": {
          "base_uri": "https://localhost:8080/"
        },
        "id": "kRBmhCHH_aKz",
        "outputId": "00c93d92-3a89-4cfb-de06-1173433f0760"
      },
      "source": [
        "p_prediction = ((data.prediction.value_counts()) / data.prediction.count()) * 100\r\n",
        "p_prediction"
      ],
      "execution_count": 36,
      "outputs": [
        {
          "output_type": "execute_result",
          "data": {
            "text/plain": [
              "text               89.767952\n",
              "horizontal line     6.011328\n",
              "graphic             2.101224\n",
              "vertical line       1.607893\n",
              "picture             0.511602\n",
              "Name: prediction, dtype: float64"
            ]
          },
          "metadata": {
            "tags": []
          },
          "execution_count": 36
        }
      ]
    },
    {
      "cell_type": "code",
      "metadata": {
        "colab": {
          "base_uri": "https://localhost:8080/",
          "height": 591
        },
        "id": "CwLyrNosAREY",
        "outputId": "7cfcc1ea-36ad-49a5-9ff9-3be6ec6396ac"
      },
      "source": [
        "p_prediction.plot.pie(figsize=(15, 10), autopct=\"%.f\", title=\"Percentage of each class\");"
      ],
      "execution_count": 37,
      "outputs": [
        {
          "output_type": "display_data",
          "data": {
            "image/png": "[encoded data removed]",
            "text/plain": [
              "<Figure size 1080x720 with 1 Axes>"
            ]
          },
          "metadata": {
            "tags": []
          }
        }
      ]
    },
    {
      "cell_type": "markdown",
      "metadata": {
        "id": "AAphx5QHBh4Y"
      },
      "source": [
        "90% of the blocks are texts"
      ]
    },
    {
      "cell_type": "markdown",
      "metadata": {
        "id": "dmL1FcdfUlo-"
      },
      "source": [
        "## Relationship between area and classes type"
      ]
    },
    {
      "cell_type": "code",
      "metadata": {
        "colab": {
          "base_uri": "https://localhost:8080/",
          "height": 609
        },
        "id": "dHRfmYO0D64R",
        "outputId": "51225a3d-b614-4bf4-8d62-64d6072fd25f"
      },
      "source": [
        "data.area.plot(figsize=(15,10))"
      ],
      "execution_count": 38,
      "outputs": [
        {
          "output_type": "execute_result",
          "data": {
            "text/plain": [
              "<matplotlib.axes._subplots.AxesSubplot at 0x7fe645a250b8>"
            ]
          },
          "metadata": {
            "tags": []
          },
          "execution_count": 38
        },
        {
          "output_type": "display_data",
          "data": {
            "image/png": "[encoded data removed]",
            "text/plain": [
              "<Figure size 1080x720 with 1 Axes>"
            ]
          },
          "metadata": {
            "tags": [],
            "needs_background": "light"
          }
        }
      ]
    },
    {
      "cell_type": "code",
      "metadata": {
        "colab": {
          "base_uri": "https://localhost:8080/"
        },
        "id": "GdU_fnZyGI9k",
        "outputId": "5c41ffb0-d283-4b47-b48b-c4d5b643f754"
      },
      "source": [
        "number = data.loc[data.area <= 10000].count()\r\n",
        "number"
      ],
      "execution_count": 39,
      "outputs": [
        {
          "output_type": "execute_result",
          "data": {
            "text/plain": [
              "height        5418\n",
              "length        5418\n",
              "area          5418\n",
              "eccen         5418\n",
              "p_black       5418\n",
              "p_and         5418\n",
              "mean_tr       5418\n",
              "blackpix      5418\n",
              "blackand      5418\n",
              "wb_trans      5418\n",
              "prediction    5418\n",
              "dtype: int64"
            ]
          },
          "metadata": {
            "tags": []
          },
          "execution_count": 39
        }
      ]
    },
    {
      "cell_type": "code",
      "metadata": {
        "colab": {
          "base_uri": "https://localhost:8080/"
        },
        "id": "TZMKfhhiVCJV",
        "outputId": "0510f54b-35b7-4154-8d1d-673365afdaea"
      },
      "source": [
        "ratio = number/data.count()*100\r\n",
        "ratio"
      ],
      "execution_count": 40,
      "outputs": [
        {
          "output_type": "execute_result",
          "data": {
            "text/plain": [
              "height        98.995067\n",
              "length        98.995067\n",
              "area          98.995067\n",
              "eccen         98.995067\n",
              "p_black       98.995067\n",
              "p_and         98.995067\n",
              "mean_tr       98.995067\n",
              "blackpix      98.995067\n",
              "blackand      98.995067\n",
              "wb_trans      98.995067\n",
              "prediction    98.995067\n",
              "dtype: float64"
            ]
          },
          "metadata": {
            "tags": []
          },
          "execution_count": 40
        }
      ]
    },
    {
      "cell_type": "markdown",
      "metadata": {
        "id": "f6tHoxSoZVT3"
      },
      "source": [
        "99% of the blocks have an area content lower than 10000."
      ]
    },
    {
      "cell_type": "code",
      "metadata": {
        "colab": {
          "base_uri": "https://localhost:8080/",
          "height": 225
        },
        "id": "WzvZLdEfVrTx",
        "outputId": "254ef621-9d68-46ed-8c42-82dd7ea3c41d"
      },
      "source": [
        "data.groupby(\"prediction\").mean()"
      ],
      "execution_count": 41,
      "outputs": [
        {
          "output_type": "execute_result",
          "data": {
            "text/html": [
              "<div>\n",
              "<style scoped>\n",
              "    .dataframe tbody tr th:only-of-type {\n",
              "        vertical-align: middle;\n",
              "    }\n",
              "\n",
              "    .dataframe tbody tr th {\n",
              "        vertical-align: top;\n",
              "    }\n",
              "\n",
              "    .dataframe thead th {\n",
              "        text-align: right;\n",
              "    }\n",
              "</style>\n",
              "<table border=\"1\" class=\"dataframe\">\n",
              "  <thead>\n",
              "    <tr style=\"text-align: right;\">\n",
              "      <th></th>\n",
              "      <th>height</th>\n",
              "      <th>length</th>\n",
              "      <th>area</th>\n",
              "      <th>eccen</th>\n",
              "      <th>p_black</th>\n",
              "      <th>p_and</th>\n",
              "      <th>mean_tr</th>\n",
              "      <th>blackpix</th>\n",
              "      <th>blackand</th>\n",
              "      <th>wb_trans</th>\n",
              "    </tr>\n",
              "    <tr>\n",
              "      <th>prediction</th>\n",
              "      <th></th>\n",
              "      <th></th>\n",
              "      <th></th>\n",
              "      <th></th>\n",
              "      <th></th>\n",
              "      <th></th>\n",
              "      <th></th>\n",
              "      <th></th>\n",
              "      <th></th>\n",
              "      <th></th>\n",
              "    </tr>\n",
              "  </thead>\n",
              "  <tbody>\n",
              "    <tr>\n",
              "      <th>graphic</th>\n",
              "      <td>43.660870</td>\n",
              "      <td>89.965217</td>\n",
              "      <td>9513.782609</td>\n",
              "      <td>2.064878</td>\n",
              "      <td>0.182183</td>\n",
              "      <td>0.444061</td>\n",
              "      <td>6.681130</td>\n",
              "      <td>1250.626087</td>\n",
              "      <td>2435.539130</td>\n",
              "      <td>210.895652</td>\n",
              "    </tr>\n",
              "    <tr>\n",
              "      <th>horizontal line</th>\n",
              "      <td>2.544073</td>\n",
              "      <td>141.875380</td>\n",
              "      <td>509.303951</td>\n",
              "      <td>79.442830</td>\n",
              "      <td>0.669207</td>\n",
              "      <td>0.836845</td>\n",
              "      <td>46.629088</td>\n",
              "      <td>279.805471</td>\n",
              "      <td>324.404255</td>\n",
              "      <td>12.826748</td>\n",
              "    </tr>\n",
              "    <tr>\n",
              "      <th>picture</th>\n",
              "      <td>100.535714</td>\n",
              "      <td>153.071429</td>\n",
              "      <td>21448.035714</td>\n",
              "      <td>1.401571</td>\n",
              "      <td>0.498250</td>\n",
              "      <td>0.670607</td>\n",
              "      <td>33.368214</td>\n",
              "      <td>9876.142857</td>\n",
              "      <td>13185.750000</td>\n",
              "      <td>666.071429</td>\n",
              "    </tr>\n",
              "    <tr>\n",
              "      <th>text</th>\n",
              "      <td>9.132302</td>\n",
              "      <td>87.255038</td>\n",
              "      <td>951.303888</td>\n",
              "      <td>9.937869</td>\n",
              "      <td>0.343385</td>\n",
              "      <td>0.788392</td>\n",
              "      <td>3.028687</td>\n",
              "      <td>302.253002</td>\n",
              "      <td>670.416853</td>\n",
              "      <td>109.090169</td>\n",
              "    </tr>\n",
              "    <tr>\n",
              "      <th>vertical line</th>\n",
              "      <td>42.954545</td>\n",
              "      <td>2.431818</td>\n",
              "      <td>260.534091</td>\n",
              "      <td>0.424648</td>\n",
              "      <td>0.857500</td>\n",
              "      <td>0.887000</td>\n",
              "      <td>24.029091</td>\n",
              "      <td>60.909091</td>\n",
              "      <td>71.704545</td>\n",
              "      <td>7.761364</td>\n",
              "    </tr>\n",
              "  </tbody>\n",
              "</table>\n",
              "</div>"
            ],
            "text/plain": [
              "                     height      length  ...      blackand    wb_trans\n",
              "prediction                               ...                          \n",
              "graphic           43.660870   89.965217  ...   2435.539130  210.895652\n",
              "horizontal line    2.544073  141.875380  ...    324.404255   12.826748\n",
              "picture          100.535714  153.071429  ...  13185.750000  666.071429\n",
              "text               9.132302   87.255038  ...    670.416853  109.090169\n",
              "vertical line     42.954545    2.431818  ...     71.704545    7.761364\n",
              "\n",
              "[5 rows x 10 columns]"
            ]
          },
          "metadata": {
            "tags": []
          },
          "execution_count": 41
        }
      ]
    },
    {
      "cell_type": "code",
      "metadata": {
        "colab": {
          "base_uri": "https://localhost:8080/",
          "height": 623
        },
        "id": "Z8L_85chWXVH",
        "outputId": "313660b4-6d53-4091-9db9-d69cc868420a"
      },
      "source": [
        "data.groupby(\"prediction\").mean().plot(figsize=(15,10), grid=True)"
      ],
      "execution_count": 42,
      "outputs": [
        {
          "output_type": "execute_result",
          "data": {
            "text/plain": [
              "<matplotlib.axes._subplots.AxesSubplot at 0x7fe6459fcb38>"
            ]
          },
          "metadata": {
            "tags": []
          },
          "execution_count": 42
        },
        {
          "output_type": "display_data",
          "data": {
            "image/png": "[encoded data removed]",
            "text/plain": [
              "<Figure size 1080x720 with 1 Axes>"
            ]
          },
          "metadata": {
            "tags": [],
            "needs_background": "light"
          }
        }
      ]
    },
    {
      "cell_type": "markdown",
      "metadata": {
        "id": "uVI8MB6gXL-r"
      },
      "source": [
        "We can see on this graph that the blocks taking the most space (L*H area) are  the pictures and graphics (green curve).\r\n",
        "\r\n",
        "The second interesting point is that pictures have the higher total number of black pixels in the original bitmap of the block. We can see a correlation between the number of pixels and the place taken by the block."
      ]
    },
    {
      "cell_type": "markdown",
      "metadata": {
        "id": "GGGxeCcNaeRN"
      },
      "source": [
        "## Correlation between all attributes"
      ]
    },
    {
      "cell_type": "code",
      "metadata": {
        "colab": {
          "base_uri": "https://localhost:8080/",
          "height": 608
        },
        "id": "CwWQaiu2abXu",
        "outputId": "6adf5399-c739-4611-b3d5-49e2319be771"
      },
      "source": [
        "plt.figure(figsize=(15,10))\r\n",
        "plt.title('Correlation matrix between attributes in classes predicted')\r\n",
        "sns.heatmap(data=data.corr(), annot=True, cmap=\"crest\")\r\n",
        "plt.show()"
      ],
      "execution_count": 43,
      "outputs": [
        {
          "output_type": "display_data",
          "data": {
            "image/png": "[encoded data removed]",
            "text/plain": [
              "<Figure size 1080x720 with 2 Axes>"
            ]
          },
          "metadata": {
            "tags": [],
            "needs_background": "light"
          }
        }
      ]
    },
    {
      "cell_type": "markdown",
      "metadata": {
        "id": "XBnbeGN-gGHa"
      },
      "source": [
        "**The highest correlation is between the blackpic and blackand attributes.** These attributes represent the total number of black pixels in the original bitmap of the block and the total number of black pixels in the bitmap of the block after the RLSA. \r\n",
        "\r\n",
        "This correlation is logical given the behaviour of the algorithm. \r\n",
        "\r\n",
        "The basic RLSA is applied to a binary sequence in which white pixels are represented by 0’s and black pixels by 1’s. The algorithm transforms a binary sequence x into an output sequence y according to the following rules :\r\n",
        "\r\n",
        "1. 0’s in x are changed to 1’s in y if the number of adjacent 0’s is less than or equal to a predefined limit C.\r\n",
        "2. 1’s in x are unchanged in y .\r\n",
        "\r\n",
        "**The second highest correlation is between wb_trans and blackand attributes.** These attributes represent the number of white-black transitions in the original bitmap of the block and the total number of black pixels in the bitmap of the block after the RLSA. This correlation is also logical given the behaviour of the algorithm described below. \r\n",
        "\r\n",
        "**The third correlation is between blackand et area attributes.** These attributes represent the total number of black pixels in the bitmap of the block after the RLSA and the area of the block (height * lenght). This is a positive correlation. The more black pixels there are after the algorithm RLSA, the larger the area taken is."
      ]
    },
    {
      "cell_type": "markdown",
      "metadata": {
        "id": "HhEJSRPqq8U8"
      },
      "source": [
        "# **Data modeling**"
      ]
    },
    {
      "cell_type": "markdown",
      "metadata": {
        "id": "T03HCs9x4qlb"
      },
      "source": [
        "## Seperating data for test and train\r\n",
        "####Our Data Set is pretty small, so 85% is going to be for training and 15% for testing"
      ]
    },
    {
      "cell_type": "code",
      "metadata": {
        "id": "6y-A9cHuD2hQ"
      },
      "source": [
        "x_data, y_data = data.drop(\"prediction\", axis=1), data.prediction"
      ],
      "execution_count": null,
      "outputs": []
    },
    {
      "cell_type": "code",
      "metadata": {
        "id": "xCJkpEosD8Oe"
      },
      "source": [
        "x_train, x_test, y_train, y_test = train_test_split(x_data, y_data, test_size=0.15, random_state=0)"
      ],
      "execution_count": null,
      "outputs": []
    },
    {
      "cell_type": "markdown",
      "metadata": {
        "id": "4Wk_0-fcB31O"
      },
      "source": [
        "###1) **BaseLine**\r\n",
        "We've tested 4 differents model with basic input"
      ]
    },
    {
      "cell_type": "code",
      "metadata": {
        "id": "6B1GF2IHWjRs",
        "colab": {
          "base_uri": "https://localhost:8080/"
        },
        "outputId": "996586b3-b735-496a-e933-ac5fc24dadc2"
      },
      "source": [
        "#XGBClassifier\r\n",
        "alg = XGBClassifier()\r\n",
        "alg.fit(x_train, y_train, eval_metric='auc')\r\n",
        "predictionsXGBClassifier = alg.predict(x_test)\r\n",
        "\r\n",
        "#MLPClassifier\r\n",
        "clf = MLPClassifier()\r\n",
        "clf.fit(x_train, y_train)\r\n",
        "predictionsMLPClassifier = clf.predict(x_test)\r\n",
        "\r\n",
        "#RandomForestClassifier\r\n",
        "clf = RandomForestClassifier()\r\n",
        "clf.fit(x_train, y_train)\r\n",
        "predictionsRandomForestClassifier = clf.predict(x_test)  \r\n",
        "\r\n",
        "#LogisticRegression\r\n",
        "clf = LogisticRegression()\r\n",
        "clf.fit(x_train, y_train)\r\n",
        "predictionLogisticRegression = clf.predict(x_test)\r\n",
        "\r\n",
        "print('The accuracy of the XGBClassifier is', round(metrics.accuracy_score(predictionsXGBClassifier,y_test), 4))\r\n",
        "print('The accuracy of the MLPClassifier is', round(metrics.accuracy_score(predictionsMLPClassifier,y_test), 4))\r\n",
        "print('The accuracy of the ForestClassifier is', round(metrics.accuracy_score(predictionsRandomForestClassifier,y_test), 4))\r\n",
        "print('The accuracy of the LogisticRegression is', round(metrics.accuracy_score(predictionLogisticRegression,y_test), 4))"
      ],
      "execution_count": null,
      "outputs": [
        {
          "output_type": "stream",
          "text": [
            "The accuracy of the XGBClassifier is 0.9769\n",
            "The accuracy of the MLPClassifier is 0.9525\n",
            "The accuracy of the ForestClassifier is 0.972\n",
            "The accuracy of the LogisticRegression is 0.9452\n"
          ],
          "name": "stdout"
        },
        {
          "output_type": "stream",
          "text": [
            "/usr/local/lib/python3.6/dist-packages/sklearn/linear_model/_logistic.py:940: ConvergenceWarning: lbfgs failed to converge (status=1):\n",
            "STOP: TOTAL NO. of ITERATIONS REACHED LIMIT.\n",
            "\n",
            "Increase the number of iterations (max_iter) or scale the data as shown in:\n",
            "    https://scikit-learn.org/stable/modules/preprocessing.html\n",
            "Please also refer to the documentation for alternative solver options:\n",
            "    https://scikit-learn.org/stable/modules/linear_model.html#logistic-regression\n",
            "  extra_warning_msg=_LOGISTIC_SOLVER_CONVERGENCE_MSG)\n"
          ],
          "name": "stderr"
        }
      ]
    },
    {
      "cell_type": "code",
      "metadata": {
        "colab": {
          "base_uri": "https://localhost:8080/",
          "height": 526
        },
        "id": "iI1LSRnnK8nH",
        "outputId": "e35c45ac-d75e-4b2a-f358-301e530616d1"
      },
      "source": [
        "cm = metrics.confusion_matrix(y_test, predictionsXGBClassifier)\r\n",
        "plt.figure(figsize=(9,9))\r\n",
        "sns.heatmap(cm, annot=True, fmt=\".3f\", linewidths=.5, square = True, cmap = 'Blues_r');\r\n",
        "plt.ylabel('Actual label');\r\n",
        "plt.xlabel('Predicted label');\r\n",
        "all_sample_title = 'XGBClassifier Accuracy Score: {0}'.format(alg.score(x_test,y_test))\r\n",
        "plt.title(all_sample_title, size = 15);"
      ],
      "execution_count": null,
      "outputs": [
        {
          "output_type": "display_data",
          "data": {
            "image/png": "[encoded data removed]",
            "text/plain": [
              "<Figure size 648x648 with 2 Axes>"
            ]
          },
          "metadata": {
            "tags": [],
            "needs_background": "light"
          }
        }
      ]
    },
    {
      "cell_type": "markdown",
      "metadata": {
        "id": "ytdrNwqEJd2d"
      },
      "source": [
        "https://towardsdatascience.com/methods-for-dealing-with-imbalanced-data-5b761be45a18\r\n"
      ]
    },
    {
      "cell_type": "markdown",
      "metadata": {
        "id": "_07GhD8vWHyw"
      },
      "source": [
        "### 2) **Preprocessing**\r\n",
        "\r\n",
        "Our data is imbalanced, Text class is 90% of all the data, and some of the class like graphic is 0.5 (28 over 5473). we need to have more balanced data in order to improve our model.\r\n",
        "\r\n",
        "to deal with this imbalanced we have to have the same amount of data for each class. We can either duplicate data to have the same amount as the most one, or cut data to have the same amount as the lower one.\r\n",
        "\r\n",
        "In this problem, the amount of data of our smallest one is so low that our model would be underFit (we only have 28 data for our lowest one)\r\n",
        "\r\n",
        "We choosed to duplicate data for our largest class.\r\n",
        "\r\n",
        "!!ATTENTION!! only duplicate data on your train and not test. "
      ]
    },
    {
      "cell_type": "code",
      "metadata": {
        "colab": {
          "base_uri": "https://localhost:8080/"
        },
        "id": "Qaj1qGf7EZEg",
        "outputId": "abb06096-306a-426c-e9ba-b36487afd519"
      },
      "source": [
        "from sklearn.utils import resample\r\n",
        "\r\n",
        "X = pd.concat([x_train, y_train], axis=1)\r\n",
        "text = X[X.prediction==1]\r\n",
        "HorizontalLigne = X[X.prediction==2]\r\n",
        "picture = X[X.prediction==3]\r\n",
        "VerticaleLigne = X[X.prediction==4]\r\n",
        "Graphic = X[X.prediction==5]\r\n",
        "\r\n",
        "HorizontalLigne_upsampled = resample(HorizontalLigne,\r\n",
        "                          replace=True,\r\n",
        "                          n_samples=len(text), # match number in majority class\r\n",
        "                          random_state=27) # reproducible results\r\n",
        "picture_upsampled = resample(picture,\r\n",
        "                          replace=True, # sample with replacement\r\n",
        "                          n_samples=len(text), # match number in majority class\r\n",
        "                          random_state=27) # reproducible results\r\n",
        "VerticaleLigne_upsampled = resample(VerticaleLigne,\r\n",
        "                          replace=True, # sample with replacement\r\n",
        "                          n_samples=len(text), # match number in majority class\r\n",
        "                          random_state=27) # reproducible results\r\n",
        "Graphic_upsampled = resample(Graphic,\r\n",
        "                          replace=True, # sample with replacement\r\n",
        "                          n_samples=len(text), # match number in majority class\r\n",
        "                          random_state=27) # reproducible results\r\n",
        "upsampled = pd.concat([text, HorizontalLigne_upsampled,picture_upsampled,VerticaleLigne_upsampled,Graphic_upsampled])\r\n",
        "x_train_upsamble, y_data_upsamble = data.drop(\"prediction\", axis=1), data.prediction\r\n",
        "upsampled.prediction.value_counts()"
      ],
      "execution_count": null,
      "outputs": [
        {
          "output_type": "execute_result",
          "data": {
            "text/plain": [
              "5    4170\n",
              "4    4170\n",
              "3    4170\n",
              "2    4170\n",
              "1    4170\n",
              "Name: prediction, dtype: int64"
            ]
          },
          "metadata": {
            "tags": []
          },
          "execution_count": 10
        }
      ]
    },
    {
      "cell_type": "code",
      "metadata": {
        "colab": {
          "base_uri": "https://localhost:8080/"
        },
        "id": "0v8T0qPWctOW",
        "outputId": "896c73bd-fabd-426c-8c03-d5f2675532ca"
      },
      "source": [
        "#XGBClassifier\r\n",
        "alg = XGBClassifier()\r\n",
        "alg.fit(x_train_upsamble, y_data_upsamble, eval_metric='auc')\r\n",
        "predictionsXGBClassifierPostProcessing = alg.predict(x_test)\r\n",
        "\r\n",
        "#MLPClassifier\r\n",
        "clf = MLPClassifier(hidden_layer_sizes=(100, 100, 100,))\r\n",
        "clf.fit(x_train_upsamble, y_data_upsamble)\r\n",
        "predictionsMLPClassifierPostProcessing = clf.predict(x_test)\r\n",
        "\r\n",
        "#RandomForestClassifier\r\n",
        "clf = RandomForestClassifier()\r\n",
        "clf.fit(x_train_upsamble, y_data_upsamble)\r\n",
        "predictionsRandomForestClassifierPostProcessing = clf.predict(x_test)  \r\n",
        "\r\n",
        "#LogisticRegression\r\n",
        "clf = LogisticRegression()\r\n",
        "clf.fit(x_train_upsamble, y_data_upsamble)\r\n",
        "predictionLogisticRegressionPostProcessing = clf.predict(x_test)\r\n",
        "\r\n",
        "print('The accuracy of the XGBClassifierPostProcessing is', round(metrics.accuracy_score(predictionsXGBClassifierPostProcessing,y_test), 4))\r\n",
        "print('The accuracy of the MLPClassifierPostProcessing is', round(metrics.accuracy_score(predictionsMLPClassifierPostProcessing,y_test), 4))\r\n",
        "print('The accuracy of the ForestClassifierPostProcessing is', round(metrics.accuracy_score(predictionsRandomForestClassifierPostProcessing,y_test), 4))\r\n",
        "print('The accuracy of the LogisticRegressionPostProcessing is', round(metrics.accuracy_score(predictionLogisticRegressionPostProcessing,y_test), 4))"
      ],
      "execution_count": null,
      "outputs": [
        {
          "output_type": "stream",
          "text": [
            "The accuracy of the XGBClassifierPostProcessing is 0.9915\n",
            "The accuracy of the MLPClassifierPostProcessing is 0.9586\n",
            "The accuracy of the ForestClassifierPostProcessing is 0.9988\n",
            "The accuracy of the LogisticRegressionPostProcessing is 0.9574\n"
          ],
          "name": "stdout"
        },
        {
          "output_type": "stream",
          "text": [
            "/usr/local/lib/python3.6/dist-packages/sklearn/linear_model/_logistic.py:940: ConvergenceWarning: lbfgs failed to converge (status=1):\n",
            "STOP: TOTAL NO. of ITERATIONS REACHED LIMIT.\n",
            "\n",
            "Increase the number of iterations (max_iter) or scale the data as shown in:\n",
            "    https://scikit-learn.org/stable/modules/preprocessing.html\n",
            "Please also refer to the documentation for alternative solver options:\n",
            "    https://scikit-learn.org/stable/modules/linear_model.html#logistic-regression\n",
            "  extra_warning_msg=_LOGISTIC_SOLVER_CONVERGENCE_MSG)\n"
          ],
          "name": "stderr"
        }
      ]
    },
    {
      "cell_type": "markdown",
      "metadata": {
        "id": "RbIdGzOzaVEK"
      },
      "source": [
        "without changing any hyperParameters, by just Preprocessing our data, we improved ForestClassifier from 0.9756 tp 0.9988 and XGBClassifier from 0. 9769 to 0.9915 "
      ]
    },
    {
      "cell_type": "markdown",
      "metadata": {
        "id": "iWTQrrOYUK0U"
      },
      "source": [
        "###3) **Hyperparameters**\r\n",
        "\r\n",
        "our Data is so small that hyperParameters will not improve much the accuracy of our model, only the max_depth and n_estimators will changed something significantly \\n\r\n",
        "\r\n",
        "we are only going to improve RandomForest and XGBClassifier"
      ]
    },
    {
      "cell_type": "code",
      "metadata": {
        "colab": {
          "base_uri": "https://localhost:8080/"
        },
        "id": "gmibyrZ1UbeX",
        "outputId": "9558594c-7b84-4323-e332-8d05fb92b309"
      },
      "source": [
        "from sklearn.model_selection import RandomizedSearchCV\r\n",
        "clf = xgb.XGBClassifier()\r\n",
        "\r\n",
        "param_grid = {\r\n",
        "        'silent': [False],\r\n",
        "        'max_depth': [6, 10, 15, 20, 25],\r\n",
        "        'learning_rate': [0.001, 0.01, 0.1, 0.2, 0,3],\r\n",
        "        'subsample': [0.5, 0.6, 0.7, 0.8, 0.9, 1.0],\r\n",
        "        'colsample_bytree': [0.4, 0.5, 0.6, 0.7, 0.8, 0.9, 1.0],\r\n",
        "        'colsample_bylevel': [0.4, 0.5, 0.6, 0.7, 0.8, 0.9, 1.0],\r\n",
        "        'min_child_weight': [0.5, 1.0, 3.0, 5.0, 7.0, 10.0],\r\n",
        "        'gamma': [0, 0.25, 0.5, 1.0],\r\n",
        "        'reg_lambda': [0.1, 1.0, 5.0, 10.0, 50.0, 100.0],\r\n",
        "        'n_estimators': [500]}\r\n",
        "\r\n",
        "fit_param = {'eval_metric': 'accuracy',\r\n",
        "              'early_stopping_rounds': 10,\r\n",
        "              'eval_set': [(x_train_upsamble, y_data_upsamble)]}\r\n",
        "\r\n",
        "rs_clf = RandomizedSearchCV(clf, param_grid, n_iter=50,\r\n",
        "                            n_jobs=1, verbose=2, cv=2,\r\n",
        "                            scoring='accuracy', refit=True, random_state=42)\r\n",
        "\r\n",
        "rs_clf.fit(x_train_upsamble, y_data_upsamble)\r\n",
        "best_score = rs_clf.best_score_\r\n",
        "best_params = rs_clf.best_params_\r\n",
        "print(\"Best score: {}\".format(best_score))\r\n",
        "print(\"Best params: \")\r\n",
        "for param_name in sorted(best_params.keys()):\r\n",
        "    print('%s: %r' % (param_name, best_params[param_name]))"
      ],
      "execution_count": null,
      "outputs": [
        {
          "output_type": "stream",
          "text": [
            "Fitting 2 folds for each of 50 candidates, totalling 100 fits\n",
            "[CV] subsample=0.7, silent=False, reg_lambda=50.0, n_estimators=500, min_child_weight=5.0, max_depth=25, learning_rate=0, gamma=0.5, colsample_bytree=0.8, colsample_bylevel=0.4 \n"
          ],
          "name": "stdout"
        },
        {
          "output_type": "stream",
          "text": [
            "[Parallel(n_jobs=1)]: Using backend SequentialBackend with 1 concurrent workers.\n"
          ],
          "name": "stderr"
        },
        {
          "output_type": "stream",
          "text": [
            "[CV]  subsample=0.7, silent=False, reg_lambda=50.0, n_estimators=500, min_child_weight=5.0, max_depth=25, learning_rate=0, gamma=0.5, colsample_bytree=0.8, colsample_bylevel=0.4, total=   2.7s\n",
            "[CV] subsample=0.7, silent=False, reg_lambda=50.0, n_estimators=500, min_child_weight=5.0, max_depth=25, learning_rate=0, gamma=0.5, colsample_bytree=0.8, colsample_bylevel=0.4 \n"
          ],
          "name": "stdout"
        },
        {
          "output_type": "stream",
          "text": [
            "[Parallel(n_jobs=1)]: Done   1 out of   1 | elapsed:    2.7s remaining:    0.0s\n"
          ],
          "name": "stderr"
        },
        {
          "output_type": "stream",
          "text": [
            "[CV]  subsample=0.7, silent=False, reg_lambda=50.0, n_estimators=500, min_child_weight=5.0, max_depth=25, learning_rate=0, gamma=0.5, colsample_bytree=0.8, colsample_bylevel=0.4, total=   2.6s\n",
            "[CV] subsample=0.6, silent=False, reg_lambda=1.0, n_estimators=500, min_child_weight=1.0, max_depth=15, learning_rate=0.2, gamma=1.0, colsample_bytree=0.8, colsample_bylevel=0.7 \n",
            "[CV]  subsample=0.6, silent=False, reg_lambda=1.0, n_estimators=500, min_child_weight=1.0, max_depth=15, learning_rate=0.2, gamma=1.0, colsample_bytree=0.8, colsample_bylevel=0.7, total=   4.4s\n",
            "[CV] subsample=0.6, silent=False, reg_lambda=1.0, n_estimators=500, min_child_weight=1.0, max_depth=15, learning_rate=0.2, gamma=1.0, colsample_bytree=0.8, colsample_bylevel=0.7 \n",
            "[CV]  subsample=0.6, silent=False, reg_lambda=1.0, n_estimators=500, min_child_weight=1.0, max_depth=15, learning_rate=0.2, gamma=1.0, colsample_bytree=0.8, colsample_bylevel=0.7, total=   4.0s\n",
            "[CV] subsample=0.9, silent=False, reg_lambda=50.0, n_estimators=500, min_child_weight=7.0, max_depth=6, learning_rate=0.1, gamma=0, colsample_bytree=0.9, colsample_bylevel=0.4 \n",
            "[CV]  subsample=0.9, silent=False, reg_lambda=50.0, n_estimators=500, min_child_weight=7.0, max_depth=6, learning_rate=0.1, gamma=0, colsample_bytree=0.9, colsample_bylevel=0.4, total=   2.4s\n",
            "[CV] subsample=0.9, silent=False, reg_lambda=50.0, n_estimators=500, min_child_weight=7.0, max_depth=6, learning_rate=0.1, gamma=0, colsample_bytree=0.9, colsample_bylevel=0.4 \n",
            "[CV]  subsample=0.9, silent=False, reg_lambda=50.0, n_estimators=500, min_child_weight=7.0, max_depth=6, learning_rate=0.1, gamma=0, colsample_bytree=0.9, colsample_bylevel=0.4, total=   2.2s\n",
            "[CV] subsample=0.7, silent=False, reg_lambda=5.0, n_estimators=500, min_child_weight=10.0, max_depth=25, learning_rate=3, gamma=1.0, colsample_bytree=0.6, colsample_bylevel=0.5 \n",
            "[CV]  subsample=0.7, silent=False, reg_lambda=5.0, n_estimators=500, min_child_weight=10.0, max_depth=25, learning_rate=3, gamma=1.0, colsample_bytree=0.6, colsample_bylevel=0.5, total=   1.4s\n",
            "[CV] subsample=0.7, silent=False, reg_lambda=5.0, n_estimators=500, min_child_weight=10.0, max_depth=25, learning_rate=3, gamma=1.0, colsample_bytree=0.6, colsample_bylevel=0.5 \n",
            "[CV]  subsample=0.7, silent=False, reg_lambda=5.0, n_estimators=500, min_child_weight=10.0, max_depth=25, learning_rate=3, gamma=1.0, colsample_bytree=0.6, colsample_bylevel=0.5, total=   1.3s\n",
            "[CV] subsample=0.5, silent=False, reg_lambda=0.1, n_estimators=500, min_child_weight=5.0, max_depth=6, learning_rate=0.001, gamma=0.25, colsample_bytree=0.8, colsample_bylevel=0.4 \n",
            "[CV]  subsample=0.5, silent=False, reg_lambda=0.1, n_estimators=500, min_child_weight=5.0, max_depth=6, learning_rate=0.001, gamma=0.25, colsample_bytree=0.8, colsample_bylevel=0.4, total=   3.6s\n",
            "[CV] subsample=0.5, silent=False, reg_lambda=0.1, n_estimators=500, min_child_weight=5.0, max_depth=6, learning_rate=0.001, gamma=0.25, colsample_bytree=0.8, colsample_bylevel=0.4 \n",
            "[CV]  subsample=0.5, silent=False, reg_lambda=0.1, n_estimators=500, min_child_weight=5.0, max_depth=6, learning_rate=0.001, gamma=0.25, colsample_bytree=0.8, colsample_bylevel=0.4, total=   3.4s\n",
            "[CV] subsample=0.5, silent=False, reg_lambda=5.0, n_estimators=500, min_child_weight=7.0, max_depth=25, learning_rate=3, gamma=0, colsample_bytree=0.4, colsample_bylevel=0.8 \n",
            "[CV]  subsample=0.5, silent=False, reg_lambda=5.0, n_estimators=500, min_child_weight=7.0, max_depth=25, learning_rate=3, gamma=0, colsample_bytree=0.4, colsample_bylevel=0.8, total=   1.4s\n",
            "[CV] subsample=0.5, silent=False, reg_lambda=5.0, n_estimators=500, min_child_weight=7.0, max_depth=25, learning_rate=3, gamma=0, colsample_bytree=0.4, colsample_bylevel=0.8 \n",
            "[CV]  subsample=0.5, silent=False, reg_lambda=5.0, n_estimators=500, min_child_weight=7.0, max_depth=25, learning_rate=3, gamma=0, colsample_bytree=0.4, colsample_bylevel=0.8, total=   1.3s\n",
            "[CV] subsample=0.7, silent=False, reg_lambda=50.0, n_estimators=500, min_child_weight=5.0, max_depth=20, learning_rate=0.01, gamma=0.5, colsample_bytree=0.4, colsample_bylevel=1.0 \n",
            "[CV]  subsample=0.7, silent=False, reg_lambda=50.0, n_estimators=500, min_child_weight=5.0, max_depth=20, learning_rate=0.01, gamma=0.5, colsample_bytree=0.4, colsample_bylevel=1.0, total=   3.0s\n",
            "[CV] subsample=0.7, silent=False, reg_lambda=50.0, n_estimators=500, min_child_weight=5.0, max_depth=20, learning_rate=0.01, gamma=0.5, colsample_bytree=0.4, colsample_bylevel=1.0 \n",
            "[CV]  subsample=0.7, silent=False, reg_lambda=50.0, n_estimators=500, min_child_weight=5.0, max_depth=20, learning_rate=0.01, gamma=0.5, colsample_bytree=0.4, colsample_bylevel=1.0, total=   2.8s\n",
            "[CV] subsample=0.8, silent=False, reg_lambda=100.0, n_estimators=500, min_child_weight=7.0, max_depth=6, learning_rate=0.01, gamma=0.25, colsample_bytree=0.9, colsample_bylevel=0.4 \n",
            "[CV]  subsample=0.8, silent=False, reg_lambda=100.0, n_estimators=500, min_child_weight=7.0, max_depth=6, learning_rate=0.01, gamma=0.25, colsample_bytree=0.9, colsample_bylevel=0.4, total=   2.7s\n",
            "[CV] subsample=0.8, silent=False, reg_lambda=100.0, n_estimators=500, min_child_weight=7.0, max_depth=6, learning_rate=0.01, gamma=0.25, colsample_bytree=0.9, colsample_bylevel=0.4 \n",
            "[CV]  subsample=0.8, silent=False, reg_lambda=100.0, n_estimators=500, min_child_weight=7.0, max_depth=6, learning_rate=0.01, gamma=0.25, colsample_bytree=0.9, colsample_bylevel=0.4, total=   2.4s\n",
            "[CV] subsample=0.7, silent=False, reg_lambda=50.0, n_estimators=500, min_child_weight=0.5, max_depth=25, learning_rate=0.01, gamma=0.5, colsample_bytree=0.7, colsample_bylevel=0.9 \n",
            "[CV]  subsample=0.7, silent=False, reg_lambda=50.0, n_estimators=500, min_child_weight=0.5, max_depth=25, learning_rate=0.01, gamma=0.5, colsample_bytree=0.7, colsample_bylevel=0.9, total=   4.8s\n",
            "[CV] subsample=0.7, silent=False, reg_lambda=50.0, n_estimators=500, min_child_weight=0.5, max_depth=25, learning_rate=0.01, gamma=0.5, colsample_bytree=0.7, colsample_bylevel=0.9 \n",
            "[CV]  subsample=0.7, silent=False, reg_lambda=50.0, n_estimators=500, min_child_weight=0.5, max_depth=25, learning_rate=0.01, gamma=0.5, colsample_bytree=0.7, colsample_bylevel=0.9, total=   4.5s\n",
            "[CV] subsample=0.9, silent=False, reg_lambda=10.0, n_estimators=500, min_child_weight=5.0, max_depth=25, learning_rate=0.01, gamma=1.0, colsample_bytree=0.5, colsample_bylevel=1.0 \n",
            "[CV]  subsample=0.9, silent=False, reg_lambda=10.0, n_estimators=500, min_child_weight=5.0, max_depth=25, learning_rate=0.01, gamma=1.0, colsample_bytree=0.5, colsample_bylevel=1.0, total=   3.6s\n",
            "[CV] subsample=0.9, silent=False, reg_lambda=10.0, n_estimators=500, min_child_weight=5.0, max_depth=25, learning_rate=0.01, gamma=1.0, colsample_bytree=0.5, colsample_bylevel=1.0 \n",
            "[CV]  subsample=0.9, silent=False, reg_lambda=10.0, n_estimators=500, min_child_weight=5.0, max_depth=25, learning_rate=0.01, gamma=1.0, colsample_bytree=0.5, colsample_bylevel=1.0, total=   3.2s\n",
            "[CV] subsample=0.5, silent=False, reg_lambda=5.0, n_estimators=500, min_child_weight=7.0, max_depth=6, learning_rate=3, gamma=0, colsample_bytree=0.4, colsample_bylevel=0.9 \n",
            "[CV]  subsample=0.5, silent=False, reg_lambda=5.0, n_estimators=500, min_child_weight=7.0, max_depth=6, learning_rate=3, gamma=0, colsample_bytree=0.4, colsample_bylevel=0.9, total=   1.4s\n",
            "[CV] subsample=0.5, silent=False, reg_lambda=5.0, n_estimators=500, min_child_weight=7.0, max_depth=6, learning_rate=3, gamma=0, colsample_bytree=0.4, colsample_bylevel=0.9 \n",
            "[CV]  subsample=0.5, silent=False, reg_lambda=5.0, n_estimators=500, min_child_weight=7.0, max_depth=6, learning_rate=3, gamma=0, colsample_bytree=0.4, colsample_bylevel=0.9, total=   1.4s\n",
            "[CV] subsample=0.8, silent=False, reg_lambda=50.0, n_estimators=500, min_child_weight=0.5, max_depth=10, learning_rate=0.001, gamma=1.0, colsample_bytree=1.0, colsample_bylevel=0.4 \n",
            "[CV]  subsample=0.8, silent=False, reg_lambda=50.0, n_estimators=500, min_child_weight=0.5, max_depth=10, learning_rate=0.001, gamma=1.0, colsample_bytree=1.0, colsample_bylevel=0.4, total=   3.9s\n",
            "[CV] subsample=0.8, silent=False, reg_lambda=50.0, n_estimators=500, min_child_weight=0.5, max_depth=10, learning_rate=0.001, gamma=1.0, colsample_bytree=1.0, colsample_bylevel=0.4 \n",
            "[CV]  subsample=0.8, silent=False, reg_lambda=50.0, n_estimators=500, min_child_weight=0.5, max_depth=10, learning_rate=0.001, gamma=1.0, colsample_bytree=1.0, colsample_bylevel=0.4, total=   3.8s\n",
            "[CV] subsample=1.0, silent=False, reg_lambda=100.0, n_estimators=500, min_child_weight=1.0, max_depth=6, learning_rate=0.1, gamma=1.0, colsample_bytree=0.9, colsample_bylevel=1.0 \n",
            "[CV]  subsample=1.0, silent=False, reg_lambda=100.0, n_estimators=500, min_child_weight=1.0, max_depth=6, learning_rate=0.1, gamma=1.0, colsample_bytree=0.9, colsample_bylevel=1.0, total=   5.5s\n",
            "[CV] subsample=1.0, silent=False, reg_lambda=100.0, n_estimators=500, min_child_weight=1.0, max_depth=6, learning_rate=0.1, gamma=1.0, colsample_bytree=0.9, colsample_bylevel=1.0 \n",
            "[CV]  subsample=1.0, silent=False, reg_lambda=100.0, n_estimators=500, min_child_weight=1.0, max_depth=6, learning_rate=0.1, gamma=1.0, colsample_bytree=0.9, colsample_bylevel=1.0, total=   4.9s\n",
            "[CV] subsample=0.6, silent=False, reg_lambda=100.0, n_estimators=500, min_child_weight=7.0, max_depth=15, learning_rate=3, gamma=0.5, colsample_bytree=0.7, colsample_bylevel=0.5 \n",
            "[CV]  subsample=0.6, silent=False, reg_lambda=100.0, n_estimators=500, min_child_weight=7.0, max_depth=15, learning_rate=3, gamma=0.5, colsample_bytree=0.7, colsample_bylevel=0.5, total=   1.9s\n",
            "[CV] subsample=0.6, silent=False, reg_lambda=100.0, n_estimators=500, min_child_weight=7.0, max_depth=15, learning_rate=3, gamma=0.5, colsample_bytree=0.7, colsample_bylevel=0.5 \n",
            "[CV]  subsample=0.6, silent=False, reg_lambda=100.0, n_estimators=500, min_child_weight=7.0, max_depth=15, learning_rate=3, gamma=0.5, colsample_bytree=0.7, colsample_bylevel=0.5, total=   1.8s\n",
            "[CV] subsample=0.7, silent=False, reg_lambda=5.0, n_estimators=500, min_child_weight=1.0, max_depth=6, learning_rate=0.1, gamma=0.5, colsample_bytree=0.5, colsample_bylevel=0.4 \n",
            "[CV]  subsample=0.7, silent=False, reg_lambda=5.0, n_estimators=500, min_child_weight=1.0, max_depth=6, learning_rate=0.1, gamma=0.5, colsample_bytree=0.5, colsample_bylevel=0.4, total=   2.9s\n",
            "[CV] subsample=0.7, silent=False, reg_lambda=5.0, n_estimators=500, min_child_weight=1.0, max_depth=6, learning_rate=0.1, gamma=0.5, colsample_bytree=0.5, colsample_bylevel=0.4 \n",
            "[CV]  subsample=0.7, silent=False, reg_lambda=5.0, n_estimators=500, min_child_weight=1.0, max_depth=6, learning_rate=0.1, gamma=0.5, colsample_bytree=0.5, colsample_bylevel=0.4, total=   2.7s\n",
            "[CV] subsample=0.6, silent=False, reg_lambda=0.1, n_estimators=500, min_child_weight=10.0, max_depth=25, learning_rate=0, gamma=0.5, colsample_bytree=0.9, colsample_bylevel=0.5 \n",
            "[CV]  subsample=0.6, silent=False, reg_lambda=0.1, n_estimators=500, min_child_weight=10.0, max_depth=25, learning_rate=0, gamma=0.5, colsample_bytree=0.9, colsample_bylevel=0.5, total=   3.9s\n",
            "[CV] subsample=0.6, silent=False, reg_lambda=0.1, n_estimators=500, min_child_weight=10.0, max_depth=25, learning_rate=0, gamma=0.5, colsample_bytree=0.9, colsample_bylevel=0.5 \n",
            "[CV]  subsample=0.6, silent=False, reg_lambda=0.1, n_estimators=500, min_child_weight=10.0, max_depth=25, learning_rate=0, gamma=0.5, colsample_bytree=0.9, colsample_bylevel=0.5, total=   3.5s\n",
            "[CV] subsample=0.5, silent=False, reg_lambda=50.0, n_estimators=500, min_child_weight=5.0, max_depth=25, learning_rate=0, gamma=1.0, colsample_bytree=0.4, colsample_bylevel=1.0 \n",
            "[CV]  subsample=0.5, silent=False, reg_lambda=50.0, n_estimators=500, min_child_weight=5.0, max_depth=25, learning_rate=0, gamma=1.0, colsample_bytree=0.4, colsample_bylevel=1.0, total=   2.7s\n",
            "[CV] subsample=0.5, silent=False, reg_lambda=50.0, n_estimators=500, min_child_weight=5.0, max_depth=25, learning_rate=0, gamma=1.0, colsample_bytree=0.4, colsample_bylevel=1.0 \n",
            "[CV]  subsample=0.5, silent=False, reg_lambda=50.0, n_estimators=500, min_child_weight=5.0, max_depth=25, learning_rate=0, gamma=1.0, colsample_bytree=0.4, colsample_bylevel=1.0, total=   2.6s\n",
            "[CV] subsample=0.6, silent=False, reg_lambda=50.0, n_estimators=500, min_child_weight=3.0, max_depth=25, learning_rate=0.1, gamma=0.25, colsample_bytree=0.6, colsample_bylevel=0.8 \n",
            "[CV]  subsample=0.6, silent=False, reg_lambda=50.0, n_estimators=500, min_child_weight=3.0, max_depth=25, learning_rate=0.1, gamma=0.25, colsample_bytree=0.6, colsample_bylevel=0.8, total=   3.0s\n",
            "[CV] subsample=0.6, silent=False, reg_lambda=50.0, n_estimators=500, min_child_weight=3.0, max_depth=25, learning_rate=0.1, gamma=0.25, colsample_bytree=0.6, colsample_bylevel=0.8 \n",
            "[CV]  subsample=0.6, silent=False, reg_lambda=50.0, n_estimators=500, min_child_weight=3.0, max_depth=25, learning_rate=0.1, gamma=0.25, colsample_bytree=0.6, colsample_bylevel=0.8, total=   2.9s\n",
            "[CV] subsample=0.8, silent=False, reg_lambda=1.0, n_estimators=500, min_child_weight=1.0, max_depth=25, learning_rate=0.1, gamma=0.5, colsample_bytree=0.9, colsample_bylevel=0.5 \n",
            "[CV]  subsample=0.8, silent=False, reg_lambda=1.0, n_estimators=500, min_child_weight=1.0, max_depth=25, learning_rate=0.1, gamma=0.5, colsample_bytree=0.9, colsample_bylevel=0.5, total=   4.0s\n",
            "[CV] subsample=0.8, silent=False, reg_lambda=1.0, n_estimators=500, min_child_weight=1.0, max_depth=25, learning_rate=0.1, gamma=0.5, colsample_bytree=0.9, colsample_bylevel=0.5 \n",
            "[CV]  subsample=0.8, silent=False, reg_lambda=1.0, n_estimators=500, min_child_weight=1.0, max_depth=25, learning_rate=0.1, gamma=0.5, colsample_bytree=0.9, colsample_bylevel=0.5, total=   3.6s\n",
            "[CV] subsample=0.6, silent=False, reg_lambda=0.1, n_estimators=500, min_child_weight=0.5, max_depth=10, learning_rate=0.2, gamma=0, colsample_bytree=1.0, colsample_bylevel=1.0 \n",
            "[CV]  subsample=0.6, silent=False, reg_lambda=0.1, n_estimators=500, min_child_weight=0.5, max_depth=10, learning_rate=0.2, gamma=0, colsample_bytree=1.0, colsample_bylevel=1.0, total=   4.1s\n",
            "[CV] subsample=0.6, silent=False, reg_lambda=0.1, n_estimators=500, min_child_weight=0.5, max_depth=10, learning_rate=0.2, gamma=0, colsample_bytree=1.0, colsample_bylevel=1.0 \n",
            "[CV]  subsample=0.6, silent=False, reg_lambda=0.1, n_estimators=500, min_child_weight=0.5, max_depth=10, learning_rate=0.2, gamma=0, colsample_bytree=1.0, colsample_bylevel=1.0, total=   3.6s\n",
            "[CV] subsample=0.6, silent=False, reg_lambda=100.0, n_estimators=500, min_child_weight=3.0, max_depth=6, learning_rate=0.01, gamma=0.5, colsample_bytree=0.6, colsample_bylevel=0.8 \n",
            "[CV]  subsample=0.6, silent=False, reg_lambda=100.0, n_estimators=500, min_child_weight=3.0, max_depth=6, learning_rate=0.01, gamma=0.5, colsample_bytree=0.6, colsample_bylevel=0.8, total=   3.2s\n",
            "[CV] subsample=0.6, silent=False, reg_lambda=100.0, n_estimators=500, min_child_weight=3.0, max_depth=6, learning_rate=0.01, gamma=0.5, colsample_bytree=0.6, colsample_bylevel=0.8 \n",
            "[CV]  subsample=0.6, silent=False, reg_lambda=100.0, n_estimators=500, min_child_weight=3.0, max_depth=6, learning_rate=0.01, gamma=0.5, colsample_bytree=0.6, colsample_bylevel=0.8, total=   3.0s\n",
            "[CV] subsample=1.0, silent=False, reg_lambda=100.0, n_estimators=500, min_child_weight=3.0, max_depth=20, learning_rate=3, gamma=1.0, colsample_bytree=0.7, colsample_bylevel=0.4 \n",
            "[CV]  subsample=1.0, silent=False, reg_lambda=100.0, n_estimators=500, min_child_weight=3.0, max_depth=20, learning_rate=3, gamma=1.0, colsample_bytree=0.7, colsample_bylevel=0.4, total=   2.1s\n",
            "[CV] subsample=1.0, silent=False, reg_lambda=100.0, n_estimators=500, min_child_weight=3.0, max_depth=20, learning_rate=3, gamma=1.0, colsample_bytree=0.7, colsample_bylevel=0.4 \n",
            "[CV]  subsample=1.0, silent=False, reg_lambda=100.0, n_estimators=500, min_child_weight=3.0, max_depth=20, learning_rate=3, gamma=1.0, colsample_bytree=0.7, colsample_bylevel=0.4, total=   2.1s\n",
            "[CV] subsample=0.9, silent=False, reg_lambda=5.0, n_estimators=500, min_child_weight=0.5, max_depth=10, learning_rate=3, gamma=0.5, colsample_bytree=1.0, colsample_bylevel=1.0 \n",
            "[CV]  subsample=0.9, silent=False, reg_lambda=5.0, n_estimators=500, min_child_weight=0.5, max_depth=10, learning_rate=3, gamma=0.5, colsample_bytree=1.0, colsample_bylevel=1.0, total=   4.3s\n",
            "[CV] subsample=0.9, silent=False, reg_lambda=5.0, n_estimators=500, min_child_weight=0.5, max_depth=10, learning_rate=3, gamma=0.5, colsample_bytree=1.0, colsample_bylevel=1.0 \n",
            "[CV]  subsample=0.9, silent=False, reg_lambda=5.0, n_estimators=500, min_child_weight=0.5, max_depth=10, learning_rate=3, gamma=0.5, colsample_bytree=1.0, colsample_bylevel=1.0, total=   5.1s\n",
            "[CV] subsample=0.8, silent=False, reg_lambda=50.0, n_estimators=500, min_child_weight=3.0, max_depth=6, learning_rate=0.2, gamma=0, colsample_bytree=0.4, colsample_bylevel=0.5 \n",
            "[CV]  subsample=0.8, silent=False, reg_lambda=50.0, n_estimators=500, min_child_weight=3.0, max_depth=6, learning_rate=0.2, gamma=0, colsample_bytree=0.4, colsample_bylevel=0.5, total=   2.4s\n",
            "[CV] subsample=0.8, silent=False, reg_lambda=50.0, n_estimators=500, min_child_weight=3.0, max_depth=6, learning_rate=0.2, gamma=0, colsample_bytree=0.4, colsample_bylevel=0.5 \n",
            "[CV]  subsample=0.8, silent=False, reg_lambda=50.0, n_estimators=500, min_child_weight=3.0, max_depth=6, learning_rate=0.2, gamma=0, colsample_bytree=0.4, colsample_bylevel=0.5, total=   2.3s\n",
            "[CV] subsample=0.5, silent=False, reg_lambda=5.0, n_estimators=500, min_child_weight=7.0, max_depth=6, learning_rate=0, gamma=0, colsample_bytree=0.7, colsample_bylevel=0.9 \n",
            "[CV]  subsample=0.5, silent=False, reg_lambda=5.0, n_estimators=500, min_child_weight=7.0, max_depth=6, learning_rate=0, gamma=0, colsample_bytree=0.7, colsample_bylevel=0.9, total=   3.5s\n",
            "[CV] subsample=0.5, silent=False, reg_lambda=5.0, n_estimators=500, min_child_weight=7.0, max_depth=6, learning_rate=0, gamma=0, colsample_bytree=0.7, colsample_bylevel=0.9 \n",
            "[CV]  subsample=0.5, silent=False, reg_lambda=5.0, n_estimators=500, min_child_weight=7.0, max_depth=6, learning_rate=0, gamma=0, colsample_bytree=0.7, colsample_bylevel=0.9, total=   3.3s\n",
            "[CV] subsample=0.9, silent=False, reg_lambda=5.0, n_estimators=500, min_child_weight=0.5, max_depth=10, learning_rate=0.001, gamma=1.0, colsample_bytree=0.8, colsample_bylevel=0.6 \n",
            "[CV]  subsample=0.9, silent=False, reg_lambda=5.0, n_estimators=500, min_child_weight=0.5, max_depth=10, learning_rate=0.001, gamma=1.0, colsample_bytree=0.8, colsample_bylevel=0.6, total=   4.3s\n",
            "[CV] subsample=0.9, silent=False, reg_lambda=5.0, n_estimators=500, min_child_weight=0.5, max_depth=10, learning_rate=0.001, gamma=1.0, colsample_bytree=0.8, colsample_bylevel=0.6 \n",
            "[CV]  subsample=0.9, silent=False, reg_lambda=5.0, n_estimators=500, min_child_weight=0.5, max_depth=10, learning_rate=0.001, gamma=1.0, colsample_bytree=0.8, colsample_bylevel=0.6, total=   4.0s\n",
            "[CV] subsample=0.5, silent=False, reg_lambda=5.0, n_estimators=500, min_child_weight=5.0, max_depth=6, learning_rate=0.2, gamma=0.25, colsample_bytree=0.4, colsample_bylevel=0.9 \n",
            "[CV]  subsample=0.5, silent=False, reg_lambda=5.0, n_estimators=500, min_child_weight=5.0, max_depth=6, learning_rate=0.2, gamma=0.25, colsample_bytree=0.4, colsample_bylevel=0.9, total=   2.0s\n",
            "[CV] subsample=0.5, silent=False, reg_lambda=5.0, n_estimators=500, min_child_weight=5.0, max_depth=6, learning_rate=0.2, gamma=0.25, colsample_bytree=0.4, colsample_bylevel=0.9 \n",
            "[CV]  subsample=0.5, silent=False, reg_lambda=5.0, n_estimators=500, min_child_weight=5.0, max_depth=6, learning_rate=0.2, gamma=0.25, colsample_bytree=0.4, colsample_bylevel=0.9, total=   1.9s\n",
            "[CV] subsample=0.9, silent=False, reg_lambda=10.0, n_estimators=500, min_child_weight=5.0, max_depth=6, learning_rate=0.01, gamma=0, colsample_bytree=1.0, colsample_bylevel=0.4 \n",
            "[CV]  subsample=0.9, silent=False, reg_lambda=10.0, n_estimators=500, min_child_weight=5.0, max_depth=6, learning_rate=0.01, gamma=0, colsample_bytree=1.0, colsample_bylevel=0.4, total=   3.3s\n",
            "[CV] subsample=0.9, silent=False, reg_lambda=10.0, n_estimators=500, min_child_weight=5.0, max_depth=6, learning_rate=0.01, gamma=0, colsample_bytree=1.0, colsample_bylevel=0.4 \n",
            "[CV]  subsample=0.9, silent=False, reg_lambda=10.0, n_estimators=500, min_child_weight=5.0, max_depth=6, learning_rate=0.01, gamma=0, colsample_bytree=1.0, colsample_bylevel=0.4, total=   3.0s\n",
            "[CV] subsample=1.0, silent=False, reg_lambda=100.0, n_estimators=500, min_child_weight=5.0, max_depth=10, learning_rate=3, gamma=0, colsample_bytree=0.8, colsample_bylevel=1.0 \n",
            "[CV]  subsample=1.0, silent=False, reg_lambda=100.0, n_estimators=500, min_child_weight=5.0, max_depth=10, learning_rate=3, gamma=0, colsample_bytree=0.8, colsample_bylevel=1.0, total=   2.6s\n",
            "[CV] subsample=1.0, silent=False, reg_lambda=100.0, n_estimators=500, min_child_weight=5.0, max_depth=10, learning_rate=3, gamma=0, colsample_bytree=0.8, colsample_bylevel=1.0 \n",
            "[CV]  subsample=1.0, silent=False, reg_lambda=100.0, n_estimators=500, min_child_weight=5.0, max_depth=10, learning_rate=3, gamma=0, colsample_bytree=0.8, colsample_bylevel=1.0, total=   2.3s\n",
            "[CV] subsample=0.6, silent=False, reg_lambda=1.0, n_estimators=500, min_child_weight=5.0, max_depth=10, learning_rate=0.001, gamma=0.25, colsample_bytree=0.8, colsample_bylevel=0.7 \n",
            "[CV]  subsample=0.6, silent=False, reg_lambda=1.0, n_estimators=500, min_child_weight=5.0, max_depth=10, learning_rate=0.001, gamma=0.25, colsample_bytree=0.8, colsample_bylevel=0.7, total=   4.1s\n",
            "[CV] subsample=0.6, silent=False, reg_lambda=1.0, n_estimators=500, min_child_weight=5.0, max_depth=10, learning_rate=0.001, gamma=0.25, colsample_bytree=0.8, colsample_bylevel=0.7 \n",
            "[CV]  subsample=0.6, silent=False, reg_lambda=1.0, n_estimators=500, min_child_weight=5.0, max_depth=10, learning_rate=0.001, gamma=0.25, colsample_bytree=0.8, colsample_bylevel=0.7, total=   4.0s\n",
            "[CV] subsample=0.6, silent=False, reg_lambda=100.0, n_estimators=500, min_child_weight=10.0, max_depth=25, learning_rate=0.01, gamma=0.25, colsample_bytree=1.0, colsample_bylevel=0.6 \n",
            "[CV]  subsample=0.6, silent=False, reg_lambda=100.0, n_estimators=500, min_child_weight=10.0, max_depth=25, learning_rate=0.01, gamma=0.25, colsample_bytree=1.0, colsample_bylevel=0.6, total=   3.3s\n",
            "[CV] subsample=0.6, silent=False, reg_lambda=100.0, n_estimators=500, min_child_weight=10.0, max_depth=25, learning_rate=0.01, gamma=0.25, colsample_bytree=1.0, colsample_bylevel=0.6 \n",
            "[CV]  subsample=0.6, silent=False, reg_lambda=100.0, n_estimators=500, min_child_weight=10.0, max_depth=25, learning_rate=0.01, gamma=0.25, colsample_bytree=1.0, colsample_bylevel=0.6, total=   2.9s\n",
            "[CV] subsample=1.0, silent=False, reg_lambda=100.0, n_estimators=500, min_child_weight=5.0, max_depth=6, learning_rate=0.001, gamma=0, colsample_bytree=0.8, colsample_bylevel=0.7 \n",
            "[CV]  subsample=1.0, silent=False, reg_lambda=100.0, n_estimators=500, min_child_weight=5.0, max_depth=6, learning_rate=0.001, gamma=0, colsample_bytree=0.8, colsample_bylevel=0.7, total=   3.1s\n",
            "[CV] subsample=1.0, silent=False, reg_lambda=100.0, n_estimators=500, min_child_weight=5.0, max_depth=6, learning_rate=0.001, gamma=0, colsample_bytree=0.8, colsample_bylevel=0.7 \n",
            "[CV]  subsample=1.0, silent=False, reg_lambda=100.0, n_estimators=500, min_child_weight=5.0, max_depth=6, learning_rate=0.001, gamma=0, colsample_bytree=0.8, colsample_bylevel=0.7, total=   2.9s\n",
            "[CV] subsample=0.6, silent=False, reg_lambda=50.0, n_estimators=500, min_child_weight=1.0, max_depth=25, learning_rate=0.001, gamma=0.5, colsample_bytree=0.6, colsample_bylevel=0.4 \n",
            "[CV]  subsample=0.6, silent=False, reg_lambda=50.0, n_estimators=500, min_child_weight=1.0, max_depth=25, learning_rate=0.001, gamma=0.5, colsample_bytree=0.6, colsample_bylevel=0.4, total=   2.8s\n",
            "[CV] subsample=0.6, silent=False, reg_lambda=50.0, n_estimators=500, min_child_weight=1.0, max_depth=25, learning_rate=0.001, gamma=0.5, colsample_bytree=0.6, colsample_bylevel=0.4 \n",
            "[CV]  subsample=0.6, silent=False, reg_lambda=50.0, n_estimators=500, min_child_weight=1.0, max_depth=25, learning_rate=0.001, gamma=0.5, colsample_bytree=0.6, colsample_bylevel=0.4, total=   2.8s\n",
            "[CV] subsample=0.6, silent=False, reg_lambda=50.0, n_estimators=500, min_child_weight=1.0, max_depth=10, learning_rate=3, gamma=0.25, colsample_bytree=0.7, colsample_bylevel=1.0 \n",
            "[CV]  subsample=0.6, silent=False, reg_lambda=50.0, n_estimators=500, min_child_weight=1.0, max_depth=10, learning_rate=3, gamma=0.25, colsample_bytree=0.7, colsample_bylevel=1.0, total=   4.1s\n",
            "[CV] subsample=0.6, silent=False, reg_lambda=50.0, n_estimators=500, min_child_weight=1.0, max_depth=10, learning_rate=3, gamma=0.25, colsample_bytree=0.7, colsample_bylevel=1.0 \n",
            "[CV]  subsample=0.6, silent=False, reg_lambda=50.0, n_estimators=500, min_child_weight=1.0, max_depth=10, learning_rate=3, gamma=0.25, colsample_bytree=0.7, colsample_bylevel=1.0, total=   3.9s\n",
            "[CV] subsample=0.5, silent=False, reg_lambda=10.0, n_estimators=500, min_child_weight=10.0, max_depth=10, learning_rate=0.001, gamma=0.25, colsample_bytree=0.7, colsample_bylevel=0.4 \n",
            "[CV]  subsample=0.5, silent=False, reg_lambda=10.0, n_estimators=500, min_child_weight=10.0, max_depth=10, learning_rate=0.001, gamma=0.25, colsample_bytree=0.7, colsample_bylevel=0.4, total=   2.2s\n",
            "[CV] subsample=0.5, silent=False, reg_lambda=10.0, n_estimators=500, min_child_weight=10.0, max_depth=10, learning_rate=0.001, gamma=0.25, colsample_bytree=0.7, colsample_bylevel=0.4 \n",
            "[CV]  subsample=0.5, silent=False, reg_lambda=10.0, n_estimators=500, min_child_weight=10.0, max_depth=10, learning_rate=0.001, gamma=0.25, colsample_bytree=0.7, colsample_bylevel=0.4, total=   2.1s\n",
            "[CV] subsample=0.8, silent=False, reg_lambda=100.0, n_estimators=500, min_child_weight=1.0, max_depth=20, learning_rate=0.001, gamma=1.0, colsample_bytree=0.5, colsample_bylevel=0.9 \n",
            "[CV]  subsample=0.8, silent=False, reg_lambda=100.0, n_estimators=500, min_child_weight=1.0, max_depth=20, learning_rate=0.001, gamma=1.0, colsample_bytree=0.5, colsample_bylevel=0.9, total=   3.4s\n",
            "[CV] subsample=0.8, silent=False, reg_lambda=100.0, n_estimators=500, min_child_weight=1.0, max_depth=20, learning_rate=0.001, gamma=1.0, colsample_bytree=0.5, colsample_bylevel=0.9 \n",
            "[CV]  subsample=0.8, silent=False, reg_lambda=100.0, n_estimators=500, min_child_weight=1.0, max_depth=20, learning_rate=0.001, gamma=1.0, colsample_bytree=0.5, colsample_bylevel=0.9, total=   3.3s\n",
            "[CV] subsample=0.8, silent=False, reg_lambda=50.0, n_estimators=500, min_child_weight=3.0, max_depth=25, learning_rate=0.01, gamma=1.0, colsample_bytree=0.5, colsample_bylevel=0.7 \n",
            "[CV]  subsample=0.8, silent=False, reg_lambda=50.0, n_estimators=500, min_child_weight=3.0, max_depth=25, learning_rate=0.01, gamma=1.0, colsample_bytree=0.5, colsample_bylevel=0.7, total=   2.9s\n",
            "[CV] subsample=0.8, silent=False, reg_lambda=50.0, n_estimators=500, min_child_weight=3.0, max_depth=25, learning_rate=0.01, gamma=1.0, colsample_bytree=0.5, colsample_bylevel=0.7 \n",
            "[CV]  subsample=0.8, silent=False, reg_lambda=50.0, n_estimators=500, min_child_weight=3.0, max_depth=25, learning_rate=0.01, gamma=1.0, colsample_bytree=0.5, colsample_bylevel=0.7, total=   2.8s\n",
            "[CV] subsample=0.9, silent=False, reg_lambda=100.0, n_estimators=500, min_child_weight=10.0, max_depth=10, learning_rate=0.01, gamma=0.25, colsample_bytree=0.9, colsample_bylevel=0.5 \n",
            "[CV]  subsample=0.9, silent=False, reg_lambda=100.0, n_estimators=500, min_child_weight=10.0, max_depth=10, learning_rate=0.01, gamma=0.25, colsample_bytree=0.9, colsample_bylevel=0.5, total=   2.8s\n",
            "[CV] subsample=0.9, silent=False, reg_lambda=100.0, n_estimators=500, min_child_weight=10.0, max_depth=10, learning_rate=0.01, gamma=0.25, colsample_bytree=0.9, colsample_bylevel=0.5 \n",
            "[CV]  subsample=0.9, silent=False, reg_lambda=100.0, n_estimators=500, min_child_weight=10.0, max_depth=10, learning_rate=0.01, gamma=0.25, colsample_bytree=0.9, colsample_bylevel=0.5, total=   2.5s\n",
            "[CV] subsample=1.0, silent=False, reg_lambda=100.0, n_estimators=500, min_child_weight=1.0, max_depth=20, learning_rate=0, gamma=0.25, colsample_bytree=0.4, colsample_bylevel=0.7 \n",
            "[CV]  subsample=1.0, silent=False, reg_lambda=100.0, n_estimators=500, min_child_weight=1.0, max_depth=20, learning_rate=0, gamma=0.25, colsample_bytree=0.4, colsample_bylevel=0.7, total=   2.4s\n",
            "[CV] subsample=1.0, silent=False, reg_lambda=100.0, n_estimators=500, min_child_weight=1.0, max_depth=20, learning_rate=0, gamma=0.25, colsample_bytree=0.4, colsample_bylevel=0.7 \n",
            "[CV]  subsample=1.0, silent=False, reg_lambda=100.0, n_estimators=500, min_child_weight=1.0, max_depth=20, learning_rate=0, gamma=0.25, colsample_bytree=0.4, colsample_bylevel=0.7, total=   2.3s\n",
            "[CV] subsample=0.9, silent=False, reg_lambda=1.0, n_estimators=500, min_child_weight=3.0, max_depth=10, learning_rate=0.01, gamma=0.5, colsample_bytree=0.7, colsample_bylevel=0.5 \n",
            "[CV]  subsample=0.9, silent=False, reg_lambda=1.0, n_estimators=500, min_child_weight=3.0, max_depth=10, learning_rate=0.01, gamma=0.5, colsample_bytree=0.7, colsample_bylevel=0.5, total=   3.7s\n",
            "[CV] subsample=0.9, silent=False, reg_lambda=1.0, n_estimators=500, min_child_weight=3.0, max_depth=10, learning_rate=0.01, gamma=0.5, colsample_bytree=0.7, colsample_bylevel=0.5 \n",
            "[CV]  subsample=0.9, silent=False, reg_lambda=1.0, n_estimators=500, min_child_weight=3.0, max_depth=10, learning_rate=0.01, gamma=0.5, colsample_bytree=0.7, colsample_bylevel=0.5, total=   3.4s\n",
            "[CV] subsample=0.5, silent=False, reg_lambda=0.1, n_estimators=500, min_child_weight=5.0, max_depth=20, learning_rate=0.001, gamma=1.0, colsample_bytree=0.9, colsample_bylevel=0.5 \n",
            "[CV]  subsample=0.5, silent=False, reg_lambda=0.1, n_estimators=500, min_child_weight=5.0, max_depth=20, learning_rate=0.001, gamma=1.0, colsample_bytree=0.9, colsample_bylevel=0.5, total=   4.1s\n",
            "[CV] subsample=0.5, silent=False, reg_lambda=0.1, n_estimators=500, min_child_weight=5.0, max_depth=20, learning_rate=0.001, gamma=1.0, colsample_bytree=0.9, colsample_bylevel=0.5 \n",
            "[CV]  subsample=0.5, silent=False, reg_lambda=0.1, n_estimators=500, min_child_weight=5.0, max_depth=20, learning_rate=0.001, gamma=1.0, colsample_bytree=0.9, colsample_bylevel=0.5, total=   3.7s\n",
            "[CV] subsample=0.9, silent=False, reg_lambda=10.0, n_estimators=500, min_child_weight=1.0, max_depth=6, learning_rate=0.2, gamma=0.25, colsample_bytree=1.0, colsample_bylevel=0.6 \n",
            "[CV]  subsample=0.9, silent=False, reg_lambda=10.0, n_estimators=500, min_child_weight=1.0, max_depth=6, learning_rate=0.2, gamma=0.25, colsample_bytree=1.0, colsample_bylevel=0.6, total=   4.4s\n",
            "[CV] subsample=0.9, silent=False, reg_lambda=10.0, n_estimators=500, min_child_weight=1.0, max_depth=6, learning_rate=0.2, gamma=0.25, colsample_bytree=1.0, colsample_bylevel=0.6 \n",
            "[CV]  subsample=0.9, silent=False, reg_lambda=10.0, n_estimators=500, min_child_weight=1.0, max_depth=6, learning_rate=0.2, gamma=0.25, colsample_bytree=1.0, colsample_bylevel=0.6, total=   4.0s\n",
            "[CV] subsample=0.9, silent=False, reg_lambda=1.0, n_estimators=500, min_child_weight=10.0, max_depth=25, learning_rate=0.01, gamma=1.0, colsample_bytree=0.4, colsample_bylevel=0.7 \n",
            "[CV]  subsample=0.9, silent=False, reg_lambda=1.0, n_estimators=500, min_child_weight=10.0, max_depth=25, learning_rate=0.01, gamma=1.0, colsample_bytree=0.4, colsample_bylevel=0.7, total=   2.7s\n",
            "[CV] subsample=0.9, silent=False, reg_lambda=1.0, n_estimators=500, min_child_weight=10.0, max_depth=25, learning_rate=0.01, gamma=1.0, colsample_bytree=0.4, colsample_bylevel=0.7 \n",
            "[CV]  subsample=0.9, silent=False, reg_lambda=1.0, n_estimators=500, min_child_weight=10.0, max_depth=25, learning_rate=0.01, gamma=1.0, colsample_bytree=0.4, colsample_bylevel=0.7, total=   2.5s\n",
            "[CV] subsample=0.5, silent=False, reg_lambda=0.1, n_estimators=500, min_child_weight=1.0, max_depth=10, learning_rate=0.2, gamma=1.0, colsample_bytree=0.8, colsample_bylevel=0.6 \n",
            "[CV]  subsample=0.5, silent=False, reg_lambda=0.1, n_estimators=500, min_child_weight=1.0, max_depth=10, learning_rate=0.2, gamma=1.0, colsample_bytree=0.8, colsample_bylevel=0.6, total=   3.7s\n",
            "[CV] subsample=0.5, silent=False, reg_lambda=0.1, n_estimators=500, min_child_weight=1.0, max_depth=10, learning_rate=0.2, gamma=1.0, colsample_bytree=0.8, colsample_bylevel=0.6 \n",
            "[CV]  subsample=0.5, silent=False, reg_lambda=0.1, n_estimators=500, min_child_weight=1.0, max_depth=10, learning_rate=0.2, gamma=1.0, colsample_bytree=0.8, colsample_bylevel=0.6, total=   3.4s\n",
            "[CV] subsample=0.9, silent=False, reg_lambda=100.0, n_estimators=500, min_child_weight=10.0, max_depth=6, learning_rate=0.001, gamma=0.25, colsample_bytree=0.8, colsample_bylevel=0.6 \n",
            "[CV]  subsample=0.9, silent=False, reg_lambda=100.0, n_estimators=500, min_child_weight=10.0, max_depth=6, learning_rate=0.001, gamma=0.25, colsample_bytree=0.8, colsample_bylevel=0.6, total=   2.6s\n",
            "[CV] subsample=0.9, silent=False, reg_lambda=100.0, n_estimators=500, min_child_weight=10.0, max_depth=6, learning_rate=0.001, gamma=0.25, colsample_bytree=0.8, colsample_bylevel=0.6 \n",
            "[CV]  subsample=0.9, silent=False, reg_lambda=100.0, n_estimators=500, min_child_weight=10.0, max_depth=6, learning_rate=0.001, gamma=0.25, colsample_bytree=0.8, colsample_bylevel=0.6, total=   2.5s\n",
            "[CV] subsample=1.0, silent=False, reg_lambda=0.1, n_estimators=500, min_child_weight=10.0, max_depth=15, learning_rate=3, gamma=0.25, colsample_bytree=1.0, colsample_bylevel=0.5 \n",
            "[CV]  subsample=1.0, silent=False, reg_lambda=0.1, n_estimators=500, min_child_weight=10.0, max_depth=15, learning_rate=3, gamma=0.25, colsample_bytree=1.0, colsample_bylevel=0.5, total=   1.2s\n",
            "[CV] subsample=1.0, silent=False, reg_lambda=0.1, n_estimators=500, min_child_weight=10.0, max_depth=15, learning_rate=3, gamma=0.25, colsample_bytree=1.0, colsample_bylevel=0.5 \n",
            "[CV]  subsample=1.0, silent=False, reg_lambda=0.1, n_estimators=500, min_child_weight=10.0, max_depth=15, learning_rate=3, gamma=0.25, colsample_bytree=1.0, colsample_bylevel=0.5, total=   1.2s\n",
            "[CV] subsample=1.0, silent=False, reg_lambda=10.0, n_estimators=500, min_child_weight=1.0, max_depth=20, learning_rate=0, gamma=0.5, colsample_bytree=0.8, colsample_bylevel=0.7 \n",
            "[CV]  subsample=1.0, silent=False, reg_lambda=10.0, n_estimators=500, min_child_weight=1.0, max_depth=20, learning_rate=0, gamma=0.5, colsample_bytree=0.8, colsample_bylevel=0.7, total=   4.2s\n",
            "[CV] subsample=1.0, silent=False, reg_lambda=10.0, n_estimators=500, min_child_weight=1.0, max_depth=20, learning_rate=0, gamma=0.5, colsample_bytree=0.8, colsample_bylevel=0.7 \n",
            "[CV]  subsample=1.0, silent=False, reg_lambda=10.0, n_estimators=500, min_child_weight=1.0, max_depth=20, learning_rate=0, gamma=0.5, colsample_bytree=0.8, colsample_bylevel=0.7, total=   3.8s\n",
            "[CV] subsample=0.6, silent=False, reg_lambda=50.0, n_estimators=500, min_child_weight=7.0, max_depth=20, learning_rate=0.1, gamma=0.25, colsample_bytree=1.0, colsample_bylevel=1.0 \n",
            "[CV]  subsample=0.6, silent=False, reg_lambda=50.0, n_estimators=500, min_child_weight=7.0, max_depth=20, learning_rate=0.1, gamma=0.25, colsample_bytree=1.0, colsample_bylevel=1.0, total=   3.7s\n",
            "[CV] subsample=0.6, silent=False, reg_lambda=50.0, n_estimators=500, min_child_weight=7.0, max_depth=20, learning_rate=0.1, gamma=0.25, colsample_bytree=1.0, colsample_bylevel=1.0 \n",
            "[CV]  subsample=0.6, silent=False, reg_lambda=50.0, n_estimators=500, min_child_weight=7.0, max_depth=20, learning_rate=0.1, gamma=0.25, colsample_bytree=1.0, colsample_bylevel=1.0, total=   3.4s\n",
            "[CV] subsample=0.8, silent=False, reg_lambda=100.0, n_estimators=500, min_child_weight=0.5, max_depth=20, learning_rate=0, gamma=1.0, colsample_bytree=0.9, colsample_bylevel=0.7 \n",
            "[CV]  subsample=0.8, silent=False, reg_lambda=100.0, n_estimators=500, min_child_weight=0.5, max_depth=20, learning_rate=0, gamma=1.0, colsample_bytree=0.9, colsample_bylevel=0.7, total=   4.7s\n",
            "[CV] subsample=0.8, silent=False, reg_lambda=100.0, n_estimators=500, min_child_weight=0.5, max_depth=20, learning_rate=0, gamma=1.0, colsample_bytree=0.9, colsample_bylevel=0.7 \n",
            "[CV]  subsample=0.8, silent=False, reg_lambda=100.0, n_estimators=500, min_child_weight=0.5, max_depth=20, learning_rate=0, gamma=1.0, colsample_bytree=0.9, colsample_bylevel=0.7, total=   4.3s\n",
            "[CV] subsample=0.5, silent=False, reg_lambda=0.1, n_estimators=500, min_child_weight=5.0, max_depth=6, learning_rate=0.2, gamma=0.5, colsample_bytree=0.6, colsample_bylevel=0.4 \n",
            "[CV]  subsample=0.5, silent=False, reg_lambda=0.1, n_estimators=500, min_child_weight=5.0, max_depth=6, learning_rate=0.2, gamma=0.5, colsample_bytree=0.6, colsample_bylevel=0.4, total=   1.8s\n",
            "[CV] subsample=0.5, silent=False, reg_lambda=0.1, n_estimators=500, min_child_weight=5.0, max_depth=6, learning_rate=0.2, gamma=0.5, colsample_bytree=0.6, colsample_bylevel=0.4 \n",
            "[CV]  subsample=0.5, silent=False, reg_lambda=0.1, n_estimators=500, min_child_weight=5.0, max_depth=6, learning_rate=0.2, gamma=0.5, colsample_bytree=0.6, colsample_bylevel=0.4, total=   1.7s\n"
          ],
          "name": "stdout"
        },
        {
          "output_type": "stream",
          "text": [
            "[Parallel(n_jobs=1)]: Done 100 out of 100 | elapsed:  5.1min finished\n"
          ],
          "name": "stderr"
        },
        {
          "output_type": "stream",
          "text": [
            "Best score: 0.9629079892826696\n",
            "Best params: \n",
            "colsample_bylevel: 0.4\n",
            "colsample_bytree: 0.5\n",
            "gamma: 0.5\n",
            "learning_rate: 0.1\n",
            "max_depth: 6\n",
            "min_child_weight: 1.0\n",
            "n_estimators: 500\n",
            "reg_lambda: 5.0\n",
            "silent: False\n",
            "subsample: 0.7\n"
          ],
          "name": "stdout"
        }
      ]
    },
    {
      "cell_type": "code",
      "metadata": {
        "colab": {
          "base_uri": "https://localhost:8080/"
        },
        "id": "O1J2yyZcSqth",
        "outputId": "11fbcc7f-e62d-4be8-e3b8-5ee6e741e268"
      },
      "source": [
        "param_grid_random={\r\n",
        "    \"max_depth\" : np.arange(1, 10, 1),\r\n",
        "    'n_estimators': np.arange(200, 700, 100),\r\n",
        "    'max_features': ['auto', 'sqrt', 'log2'],\r\n",
        "    'criterion' :['gini', 'entropy']\r\n",
        "}\r\n",
        "grid = GridSearchCV(\r\n",
        "    estimator=RandomForestClassifier(),\r\n",
        "    param_grid=param_grid_random,\r\n",
        "    scoring=\"accuracy\",\r\n",
        "    cv=KFold(5, shuffle=True)\r\n",
        ")\r\n",
        "\r\n",
        "grid.fit(x_train_upsamble, y_data_upsamble)\r\n",
        "\r\n",
        "grid.best_estimator_"
      ],
      "execution_count": null,
      "outputs": [
        {
          "output_type": "execute_result",
          "data": {
            "text/plain": [
              "RandomForestClassifier(bootstrap=True, ccp_alpha=0.0, class_weight=None,\n",
              "                       criterion='entropy', max_depth=9, max_features='sqrt',\n",
              "                       max_leaf_nodes=None, max_samples=None,\n",
              "                       min_impurity_decrease=0.0, min_impurity_split=None,\n",
              "                       min_samples_leaf=1, min_samples_split=2,\n",
              "                       min_weight_fraction_leaf=0.0, n_estimators=500,\n",
              "                       n_jobs=None, oob_score=False, random_state=None,\n",
              "                       verbose=0, warm_start=False)"
            ]
          },
          "metadata": {
            "tags": []
          },
          "execution_count": 75
        }
      ]
    },
    {
      "cell_type": "code",
      "metadata": {
        "colab": {
          "base_uri": "https://localhost:8080/"
        },
        "id": "1GbkiIDLTMM9",
        "outputId": "d37f72e4-17f0-468f-ce33-c04fe84f1337"
      },
      "source": [
        "modelRandomForest = RandomForestClassifier(max_depth=30, n_estimators=500)\r\n",
        "modelRandomForest.fit(x_train_upsamble,y_data_upsamble)\r\n",
        "predictionRFC=modelRandomForest.predict(x_test)\r\n",
        "\r\n",
        "alg = XGBClassifier(learning_rate=0.1, n_estimators=500, max_depth=30,\r\n",
        "                      min_child_weight=1, gamma=0.5, subsample=0.7, colsample_bytree=0.5, colsample_bylevel= 0.4,\r\n",
        "                      objective='binary:logistic', nthread=4, scale_pos_weight=5, seed=27)\r\n",
        "\r\n",
        "\r\n",
        "alg.fit(x_train_upsamble, y_data_upsamble, eval_metric='auc')\r\n",
        "predictionXGBC = alg.predict(x_test)\r\n",
        "\r\n",
        "print('The accuracy of the XGBClassifier is', round(metrics.accuracy_score(predictionXGBC,y_test), 4))\r\n",
        "print('The accuracy of the Random Forest is', round(metrics.accuracy_score(predictionRFC,y_test), 5))"
      ],
      "execution_count": null,
      "outputs": [
        {
          "output_type": "stream",
          "text": [
            "The accuracy of the XGBClassifier is 0.9976\n",
            "The accuracy of the Random Forest is 1.0\n"
          ],
          "name": "stdout"
        }
      ]
    },
    {
      "cell_type": "code",
      "metadata": {
        "colab": {
          "base_uri": "https://localhost:8080/",
          "height": 526
        },
        "id": "YdBUWC3-31tv",
        "outputId": "4557307e-d2be-46e5-a357-9e1127476791"
      },
      "source": [
        "cm = metrics.confusion_matrix(y_test, predictionRFC)\r\n",
        "plt.figure(figsize=(9,9))\r\n",
        "sns.heatmap(cm, annot=True, fmt=\".3f\", linewidths=.6, square = True, cmap = 'Blues_r');\r\n",
        "plt.ylabel('Actual label');\r\n",
        "plt.xlabel('Predicted label');\r\n",
        "all_sample_title = 'Random Forest Final Accuracy Score: {0}'.format(modelRandomForest.score(x_test,y_test))\r\n",
        "plt.title(all_sample_title, size = 15);"
      ],
      "execution_count": null,
      "outputs": [
        {
          "output_type": "display_data",
          "data": {
            "image/png": "[encoded data removed]",
            "text/plain": [
              "<Figure size 648x648 with 2 Axes>"
            ]
          },
          "metadata": {
            "tags": [],
            "needs_background": "light"
          }
        }
      ]
    },
    {
      "cell_type": "markdown",
      "metadata": {
        "id": "JGpoC3I1gmDf"
      },
      "source": [
        "###4) **Choosing model**\r\n",
        "both model have almost the same accuracy, we are going to take the fastest one"
      ]
    },
    {
      "cell_type": "code",
      "metadata": {
        "colab": {
          "base_uri": "https://localhost:8080/"
        },
        "id": "Rsmnf9iyXO1c",
        "outputId": "0cb3eed2-a9b9-4065-964d-a66521e93371"
      },
      "source": [
        "import timeit\r\n",
        "\r\n",
        "startRandomForest = timeit.default_timer()\r\n",
        "predictionRFCTest = modelRandomForest.predict(x_data)\r\n",
        "stopstartRandomForest = timeit.default_timer()\r\n",
        "\r\n",
        "startXGB = timeit.default_timer()\r\n",
        "predictionXGBCTest = alg.predict(x_data)\r\n",
        "stopXGB = timeit.default_timer()\r\n",
        "\r\n",
        "print('The accuracy of the XGBClassifier is', round(metrics.accuracy_score(predictionXGBCTest,y_data), 4))\r\n",
        "print('The accuracy of the Random Forest is', round(metrics.accuracy_score(predictionRFCTest,y_data), 5))\r\n",
        "\r\n",
        "timeXGBC = stopXGB - startXGB\r\n",
        "timeRandomForest = stopstartRandomForest - startRandomForest\r\n",
        "print('Time: RandomForest', timeRandomForest) \r\n",
        "print('Time: predictionXGBC', timeXGBC)  \r\n",
        "\r\n",
        "print(timeRandomForest/timeXGBC)"
      ],
      "execution_count": null,
      "outputs": [
        {
          "output_type": "stream",
          "text": [
            "The accuracy of the XGBClassifier is 0.9965\n",
            "The accuracy of the Random Forest is 0.99744\n",
            "Time: RandomForest 0.3410056469997471\n",
            "Time: predictionXGBC 0.3393937159999041\n",
            "1.0047494426792614\n"
          ],
          "name": "stdout"
        }
      ]
    },
    {
      "cell_type": "code",
      "metadata": {
        "colab": {
          "base_uri": "https://localhost:8080/",
          "height": 112
        },
        "id": "s2Nrg0SAlA0z",
        "outputId": "698258d8-12b7-4c01-a05f-7c0f59ebaa7e"
      },
      "source": [
        "Result = {'XGBClassifier': [alg.score(x_test,y_test),timeXGBC], 'Random Forest': [modelRandomForest.score(x_test,y_test),timeRandomForest]}\r\n",
        "df = pd.DataFrame(data=Result).rename(index={0: \"Accuracy\", 1:\"Time\"})\r\n",
        "df\r\n",
        "\r\n"
      ],
      "execution_count": null,
      "outputs": [
        {
          "output_type": "execute_result",
          "data": {
            "text/html": [
              "<div>\n",
              "<style scoped>\n",
              "    .dataframe tbody tr th:only-of-type {\n",
              "        vertical-align: middle;\n",
              "    }\n",
              "\n",
              "    .dataframe tbody tr th {\n",
              "        vertical-align: top;\n",
              "    }\n",
              "\n",
              "    .dataframe thead th {\n",
              "        text-align: right;\n",
              "    }\n",
              "</style>\n",
              "<table border=\"1\" class=\"dataframe\">\n",
              "  <thead>\n",
              "    <tr style=\"text-align: right;\">\n",
              "      <th></th>\n",
              "      <th>XGBClassifier</th>\n",
              "      <th>Random Forest</th>\n",
              "    </tr>\n",
              "  </thead>\n",
              "  <tbody>\n",
              "    <tr>\n",
              "      <th>Accuracy</th>\n",
              "      <td>0.997564</td>\n",
              "      <td>1.000000</td>\n",
              "    </tr>\n",
              "    <tr>\n",
              "      <th>Time</th>\n",
              "      <td>0.339394</td>\n",
              "      <td>0.341006</td>\n",
              "    </tr>\n",
              "  </tbody>\n",
              "</table>\n",
              "</div>"
            ],
            "text/plain": [
              "          XGBClassifier  Random Forest\n",
              "Accuracy       0.997564       1.000000\n",
              "Time           0.339394       0.341006"
            ]
          },
          "metadata": {
            "tags": []
          },
          "execution_count": 34
        }
      ]
    },
    {
      "cell_type": "markdown",
      "metadata": {
        "id": "BChFS46wihV3"
      },
      "source": [
        "As we can see, XGBC take almost the same time as timeRandomForest but timeRandomForest has more accuracy. We are going to take Our timeRandomForest's model for our production ML"
      ]
    },
    {
      "cell_type": "markdown",
      "metadata": {
        "id": "U_W-JmcZkCzY"
      },
      "source": [
        "###5) **Saving Model**"
      ]
    },
    {
      "cell_type": "code",
      "metadata": {
        "colab": {
          "base_uri": "https://localhost:8080/"
        },
        "id": "k2iIjwAoj-z5",
        "outputId": "d4924c13-55c0-4b0f-a9a8-c6fc070a51a9"
      },
      "source": [
        "from sklearn.externals import joblib\r\n",
        "joblib.dump(modelRandomForest, 'random_forest_model.pkl')"
      ],
      "execution_count": null,
      "outputs": [
        {
          "output_type": "stream",
          "text": [
            "/usr/local/lib/python3.6/dist-packages/sklearn/externals/joblib/__init__.py:15: FutureWarning: sklearn.externals.joblib is deprecated in 0.21 and will be removed in 0.23. Please import this functionality directly from joblib, which can be installed with: pip install joblib. If this warning is raised when loading pickled models, you may need to re-serialize those models with scikit-learn 0.21+.\n",
            "  warnings.warn(msg, category=FutureWarning)\n"
          ],
          "name": "stderr"
        },
        {
          "output_type": "execute_result",
          "data": {
            "text/plain": [
              "['random_forest_model.pkl']"
            ]
          },
          "metadata": {
            "tags": []
          },
          "execution_count": 35
        }
      ]
    }
  ]
}